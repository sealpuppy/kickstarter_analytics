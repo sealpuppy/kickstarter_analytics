{
 "cells": [
  {
   "cell_type": "markdown",
   "metadata": {},
   "source": [
    "# kickstarter_analytics\n",
    "Exploration &amp; analytics of Kickstarter data from Kaggle\n",
    "\n",
    "## Brief contents\n",
    "### 0. Introduction\n",
    "* 0.1 How Kickstarter works\n",
    "* 0.2 Summary of the data\n",
    "* 0.3 Import packages\n",
    "\n",
    "### 1. Genaral\n",
    "* 1.1 Handling weird values\n",
    "* 1.2 Modify data columns\n",
    "* 1.3 Numbers of projects proposed/ successful rate\n",
    "* 1.4 Statistics of pledged amount\n",
    "\n",
    "### 2. Region\n",
    "* 2.1 Projects proposed across regions\n",
    "\n",
    "### 3. Caterogy\n",
    "* 3.1 Projects proposed across categories\n",
    "* 3.2 Pledged amount across categories\n",
    "* 3.3 Success rate across categories\n",
    "\n",
    "### 4. Backers\n",
    "* 4.1 Discover categories that attract most backers\n",
    "* 4.2 The distribution of backers\n",
    "* 4.3 Relationship between backers & pledged amounts\n",
    "\n",
    "### 5. Modeling\n",
    "* 5.1 Pledged amount prediction - Linear Regression\n",
    "* 5.2 Project state prediction - Random Forest\n"
   ]
  },
  {
   "cell_type": "markdown",
   "metadata": {},
   "source": [
    "----\n",
    "## 0. Introduction\n",
    "#### 0.1  About Kickstarter (https://www.kickstarter.com/)\n",
    "\n",
    "Launched in 2009, Kickstarter has now became a world famous online crowdfunding platform. The platform mainly focus on creativity and merchandising, which has made some of the most fantastic ideas to come true.\n",
    "\n",
    "The crowdfunding process is simple:\n",
    "* Project owners propose their projects and provide related information such as idea, pricing, schedule, etc. \n",
    "* Backers back the projects that seems attractive\n",
    "\n",
    "The purpose of this kernel is to  explore the data collected from Kickstarter, trying to understand some characteristics of the platform.\n",
    "\n",
    "**source:** https://www.kaggle.com/kemical/kickstarter-projects\n",
    "\n",
    "#### 0.2 Summary of the data (https://www.kaggle.com/kemical/kickstarter-projects/data)\n",
    "We have 2 data files in this event:\n",
    "1. ks-projects-201612.csv\n",
    "2. ks-projects-201801.csv \n",
    "\n",
    "The `ks-projects-201612` data file is contained by the `ks-projects-201801`. We will use the  `ks-projects-201801` for further exploration.\n",
    "\n",
    "Some characteristic of this dataset:\n",
    "- 378661 rows, 15 columns\n",
    "- Metadata\n",
    "\n",
    "|              | `Description`  |\t`Attribute`  |\n",
    "|------------|----------------|----------------|\n",
    "| `ID`         |internal id      | Numeric |\n",
    "| `name`  | name of the project | String |\n",
    "| `category` | sub category (159) | String |\n",
    "| `main_category`| main category (15) | String |\n",
    "| `currency` | currency defined by project owner | String |\n",
    "| `dealine` | deadline | DateTime|\n",
    "| `goal` | fundraising goal | Numeric|\n",
    "| `launched` | launched time | DateTime|\n",
    "| `pledged` | the pledged amount | Numeric |\n",
    "| `state` | state of the project (successful, failed, etc.) | String|\n",
    "| `backers` | number of backers | Numeric |\n",
    "| `country` | country | String |\n",
    "| `usd_pledged` | pledged amount in USD | Numeric |\n",
    "| `usd_pledged real` | pledged amount in USD | Numeric |\n",
    "| `usd_ goal_real` | pledged goal in USD | Numeric |"
   ]
  },
  {
   "cell_type": "markdown",
   "metadata": {},
   "source": [
    "#### 0.3 Import packages"
   ]
  },
  {
   "cell_type": "code",
   "execution_count": 1,
   "metadata": {
    "_cell_guid": "b1076dfc-b9ad-4769-8c92-a6c4dae69d19",
    "_uuid": "8f2839f25d086af736a60e9eeb907d3b93b6e0e5"
   },
   "outputs": [],
   "source": [
    "import matplotlib.pyplot as plt\n",
    "%matplotlib inline\n",
    "import numpy as np\n",
    "import pandas as pd\n",
    "import seaborn as sns\n",
    "import sklearn\n",
    "from sklearn import linear_model\n",
    "from sklearn.ensemble import RandomForestClassifier\n",
    "from sklearn.metrics import f1_score\n",
    "from sklearn.model_selection import RandomizedSearchCV \n",
    "from sklearn.model_selection import GridSearchCV\n",
    "import time\n",
    "import os"
   ]
  },
  {
   "cell_type": "markdown",
   "metadata": {
    "_uuid": "3318fa3b6a265ee6e5e8f9ee4e57112cb0cdf17d"
   },
   "source": [
    "## 1. General"
   ]
  },
  {
   "cell_type": "markdown",
   "metadata": {
    "_uuid": "a6196595a8f1fdb7c2ade352c9ba926d66dc3027"
   },
   "source": [
    "#### 1.1 Handling weird values\n",
    "- Check ourliers\n",
    "- Check missing values"
   ]
  },
  {
   "cell_type": "code",
   "execution_count": 2,
   "metadata": {
    "_uuid": "624b5d9082c8f506f00803c45bb3e0310e1da097"
   },
   "outputs": [
    {
     "data": {
      "text/html": [
       "<div>\n",
       "<style scoped>\n",
       "    .dataframe tbody tr th:only-of-type {\n",
       "        vertical-align: middle;\n",
       "    }\n",
       "\n",
       "    .dataframe tbody tr th {\n",
       "        vertical-align: top;\n",
       "    }\n",
       "\n",
       "    .dataframe thead th {\n",
       "        text-align: right;\n",
       "    }\n",
       "</style>\n",
       "<table border=\"1\" class=\"dataframe\">\n",
       "  <thead>\n",
       "    <tr style=\"text-align: right;\">\n",
       "      <th></th>\n",
       "      <th>ID</th>\n",
       "      <th>name</th>\n",
       "      <th>category</th>\n",
       "      <th>main_category</th>\n",
       "      <th>currency</th>\n",
       "      <th>deadline</th>\n",
       "      <th>goal</th>\n",
       "      <th>launched</th>\n",
       "      <th>pledged</th>\n",
       "      <th>state</th>\n",
       "      <th>backers</th>\n",
       "      <th>country</th>\n",
       "      <th>usd pledged</th>\n",
       "      <th>usd_pledged_real</th>\n",
       "      <th>usd_goal_real</th>\n",
       "    </tr>\n",
       "  </thead>\n",
       "  <tbody>\n",
       "    <tr>\n",
       "      <th>0</th>\n",
       "      <td>1000002330</td>\n",
       "      <td>The Songs of Adelaide &amp; Abullah</td>\n",
       "      <td>Poetry</td>\n",
       "      <td>Publishing</td>\n",
       "      <td>GBP</td>\n",
       "      <td>2015-10-09</td>\n",
       "      <td>1000.0</td>\n",
       "      <td>2015-08-11 12:12:28</td>\n",
       "      <td>0.0</td>\n",
       "      <td>failed</td>\n",
       "      <td>0</td>\n",
       "      <td>GB</td>\n",
       "      <td>0.0</td>\n",
       "      <td>0.0</td>\n",
       "      <td>1533.95</td>\n",
       "    </tr>\n",
       "    <tr>\n",
       "      <th>1</th>\n",
       "      <td>1000003930</td>\n",
       "      <td>Greeting From Earth: ZGAC Arts Capsule For ET</td>\n",
       "      <td>Narrative Film</td>\n",
       "      <td>Film &amp; Video</td>\n",
       "      <td>USD</td>\n",
       "      <td>2017-11-01</td>\n",
       "      <td>30000.0</td>\n",
       "      <td>2017-09-02 04:43:57</td>\n",
       "      <td>2421.0</td>\n",
       "      <td>failed</td>\n",
       "      <td>15</td>\n",
       "      <td>US</td>\n",
       "      <td>100.0</td>\n",
       "      <td>2421.0</td>\n",
       "      <td>30000.00</td>\n",
       "    </tr>\n",
       "    <tr>\n",
       "      <th>2</th>\n",
       "      <td>1000004038</td>\n",
       "      <td>Where is Hank?</td>\n",
       "      <td>Narrative Film</td>\n",
       "      <td>Film &amp; Video</td>\n",
       "      <td>USD</td>\n",
       "      <td>2013-02-26</td>\n",
       "      <td>45000.0</td>\n",
       "      <td>2013-01-12 00:20:50</td>\n",
       "      <td>220.0</td>\n",
       "      <td>failed</td>\n",
       "      <td>3</td>\n",
       "      <td>US</td>\n",
       "      <td>220.0</td>\n",
       "      <td>220.0</td>\n",
       "      <td>45000.00</td>\n",
       "    </tr>\n",
       "    <tr>\n",
       "      <th>3</th>\n",
       "      <td>1000007540</td>\n",
       "      <td>ToshiCapital Rekordz Needs Help to Complete Album</td>\n",
       "      <td>Music</td>\n",
       "      <td>Music</td>\n",
       "      <td>USD</td>\n",
       "      <td>2012-04-16</td>\n",
       "      <td>5000.0</td>\n",
       "      <td>2012-03-17 03:24:11</td>\n",
       "      <td>1.0</td>\n",
       "      <td>failed</td>\n",
       "      <td>1</td>\n",
       "      <td>US</td>\n",
       "      <td>1.0</td>\n",
       "      <td>1.0</td>\n",
       "      <td>5000.00</td>\n",
       "    </tr>\n",
       "    <tr>\n",
       "      <th>4</th>\n",
       "      <td>1000011046</td>\n",
       "      <td>Community Film Project: The Art of Neighborhoo...</td>\n",
       "      <td>Film &amp; Video</td>\n",
       "      <td>Film &amp; Video</td>\n",
       "      <td>USD</td>\n",
       "      <td>2015-08-29</td>\n",
       "      <td>19500.0</td>\n",
       "      <td>2015-07-04 08:35:03</td>\n",
       "      <td>1283.0</td>\n",
       "      <td>canceled</td>\n",
       "      <td>14</td>\n",
       "      <td>US</td>\n",
       "      <td>1283.0</td>\n",
       "      <td>1283.0</td>\n",
       "      <td>19500.00</td>\n",
       "    </tr>\n",
       "  </tbody>\n",
       "</table>\n",
       "</div>"
      ],
      "text/plain": [
       "           ID                                               name  \\\n",
       "0  1000002330                    The Songs of Adelaide & Abullah   \n",
       "1  1000003930      Greeting From Earth: ZGAC Arts Capsule For ET   \n",
       "2  1000004038                                     Where is Hank?   \n",
       "3  1000007540  ToshiCapital Rekordz Needs Help to Complete Album   \n",
       "4  1000011046  Community Film Project: The Art of Neighborhoo...   \n",
       "\n",
       "         category main_category currency    deadline     goal  \\\n",
       "0          Poetry    Publishing      GBP  2015-10-09   1000.0   \n",
       "1  Narrative Film  Film & Video      USD  2017-11-01  30000.0   \n",
       "2  Narrative Film  Film & Video      USD  2013-02-26  45000.0   \n",
       "3           Music         Music      USD  2012-04-16   5000.0   \n",
       "4    Film & Video  Film & Video      USD  2015-08-29  19500.0   \n",
       "\n",
       "              launched  pledged     state  backers country  usd pledged  \\\n",
       "0  2015-08-11 12:12:28      0.0    failed        0      GB          0.0   \n",
       "1  2017-09-02 04:43:57   2421.0    failed       15      US        100.0   \n",
       "2  2013-01-12 00:20:50    220.0    failed        3      US        220.0   \n",
       "3  2012-03-17 03:24:11      1.0    failed        1      US          1.0   \n",
       "4  2015-07-04 08:35:03   1283.0  canceled       14      US       1283.0   \n",
       "\n",
       "   usd_pledged_real  usd_goal_real  \n",
       "0               0.0        1533.95  \n",
       "1            2421.0       30000.00  \n",
       "2             220.0       45000.00  \n",
       "3               1.0        5000.00  \n",
       "4            1283.0       19500.00  "
      ]
     },
     "execution_count": 2,
     "metadata": {},
     "output_type": "execute_result"
    }
   ],
   "source": [
    "ksdf = pd.read_csv('/Users/Terry/Desktop/CodingDog/kickstarter/kickstarter_data/ks-projects-201801.csv', sep=',', engine='python')\n",
    "ksdf.head()"
   ]
  },
  {
   "cell_type": "code",
   "execution_count": 3,
   "metadata": {
    "_uuid": "beaecdd7a3f0c3d2c046d76d86dd4eeeeb4aae8b"
   },
   "outputs": [
    {
     "data": {
      "text/html": [
       "<div>\n",
       "<style scoped>\n",
       "    .dataframe tbody tr th:only-of-type {\n",
       "        vertical-align: middle;\n",
       "    }\n",
       "\n",
       "    .dataframe tbody tr th {\n",
       "        vertical-align: top;\n",
       "    }\n",
       "\n",
       "    .dataframe thead th {\n",
       "        text-align: right;\n",
       "    }\n",
       "</style>\n",
       "<table border=\"1\" class=\"dataframe\">\n",
       "  <thead>\n",
       "    <tr style=\"text-align: right;\">\n",
       "      <th></th>\n",
       "      <th>ID</th>\n",
       "      <th>goal</th>\n",
       "      <th>pledged</th>\n",
       "      <th>backers</th>\n",
       "      <th>usd pledged</th>\n",
       "      <th>usd_pledged_real</th>\n",
       "      <th>usd_goal_real</th>\n",
       "    </tr>\n",
       "  </thead>\n",
       "  <tbody>\n",
       "    <tr>\n",
       "      <th>count</th>\n",
       "      <td>3.786610e+05</td>\n",
       "      <td>3.786610e+05</td>\n",
       "      <td>3.786610e+05</td>\n",
       "      <td>378661.000000</td>\n",
       "      <td>3.748640e+05</td>\n",
       "      <td>3.786610e+05</td>\n",
       "      <td>3.786610e+05</td>\n",
       "    </tr>\n",
       "    <tr>\n",
       "      <th>mean</th>\n",
       "      <td>1.074731e+09</td>\n",
       "      <td>4.908079e+04</td>\n",
       "      <td>9.682979e+03</td>\n",
       "      <td>105.617476</td>\n",
       "      <td>7.036729e+03</td>\n",
       "      <td>9.058924e+03</td>\n",
       "      <td>4.545440e+04</td>\n",
       "    </tr>\n",
       "    <tr>\n",
       "      <th>std</th>\n",
       "      <td>6.190862e+08</td>\n",
       "      <td>1.183391e+06</td>\n",
       "      <td>9.563601e+04</td>\n",
       "      <td>907.185035</td>\n",
       "      <td>7.863975e+04</td>\n",
       "      <td>9.097334e+04</td>\n",
       "      <td>1.152950e+06</td>\n",
       "    </tr>\n",
       "    <tr>\n",
       "      <th>min</th>\n",
       "      <td>5.971000e+03</td>\n",
       "      <td>1.000000e-02</td>\n",
       "      <td>0.000000e+00</td>\n",
       "      <td>0.000000</td>\n",
       "      <td>0.000000e+00</td>\n",
       "      <td>0.000000e+00</td>\n",
       "      <td>1.000000e-02</td>\n",
       "    </tr>\n",
       "    <tr>\n",
       "      <th>25%</th>\n",
       "      <td>5.382635e+08</td>\n",
       "      <td>2.000000e+03</td>\n",
       "      <td>3.000000e+01</td>\n",
       "      <td>2.000000</td>\n",
       "      <td>1.698000e+01</td>\n",
       "      <td>3.100000e+01</td>\n",
       "      <td>2.000000e+03</td>\n",
       "    </tr>\n",
       "    <tr>\n",
       "      <th>50%</th>\n",
       "      <td>1.075276e+09</td>\n",
       "      <td>5.200000e+03</td>\n",
       "      <td>6.200000e+02</td>\n",
       "      <td>12.000000</td>\n",
       "      <td>3.947200e+02</td>\n",
       "      <td>6.243300e+02</td>\n",
       "      <td>5.500000e+03</td>\n",
       "    </tr>\n",
       "    <tr>\n",
       "      <th>75%</th>\n",
       "      <td>1.610149e+09</td>\n",
       "      <td>1.600000e+04</td>\n",
       "      <td>4.076000e+03</td>\n",
       "      <td>56.000000</td>\n",
       "      <td>3.034090e+03</td>\n",
       "      <td>4.050000e+03</td>\n",
       "      <td>1.550000e+04</td>\n",
       "    </tr>\n",
       "    <tr>\n",
       "      <th>max</th>\n",
       "      <td>2.147476e+09</td>\n",
       "      <td>1.000000e+08</td>\n",
       "      <td>2.033899e+07</td>\n",
       "      <td>219382.000000</td>\n",
       "      <td>2.033899e+07</td>\n",
       "      <td>2.033899e+07</td>\n",
       "      <td>1.663614e+08</td>\n",
       "    </tr>\n",
       "  </tbody>\n",
       "</table>\n",
       "</div>"
      ],
      "text/plain": [
       "                 ID          goal       pledged        backers   usd pledged  \\\n",
       "count  3.786610e+05  3.786610e+05  3.786610e+05  378661.000000  3.748640e+05   \n",
       "mean   1.074731e+09  4.908079e+04  9.682979e+03     105.617476  7.036729e+03   \n",
       "std    6.190862e+08  1.183391e+06  9.563601e+04     907.185035  7.863975e+04   \n",
       "min    5.971000e+03  1.000000e-02  0.000000e+00       0.000000  0.000000e+00   \n",
       "25%    5.382635e+08  2.000000e+03  3.000000e+01       2.000000  1.698000e+01   \n",
       "50%    1.075276e+09  5.200000e+03  6.200000e+02      12.000000  3.947200e+02   \n",
       "75%    1.610149e+09  1.600000e+04  4.076000e+03      56.000000  3.034090e+03   \n",
       "max    2.147476e+09  1.000000e+08  2.033899e+07  219382.000000  2.033899e+07   \n",
       "\n",
       "       usd_pledged_real  usd_goal_real  \n",
       "count      3.786610e+05   3.786610e+05  \n",
       "mean       9.058924e+03   4.545440e+04  \n",
       "std        9.097334e+04   1.152950e+06  \n",
       "min        0.000000e+00   1.000000e-02  \n",
       "25%        3.100000e+01   2.000000e+03  \n",
       "50%        6.243300e+02   5.500000e+03  \n",
       "75%        4.050000e+03   1.550000e+04  \n",
       "max        2.033899e+07   1.663614e+08  "
      ]
     },
     "execution_count": 3,
     "metadata": {},
     "output_type": "execute_result"
    }
   ],
   "source": [
    "ksdf.describe()"
   ]
  },
  {
   "cell_type": "code",
   "execution_count": 4,
   "metadata": {
    "_uuid": "e88ae38e3ee6a2665e75f26ab773f7723d2063ce"
   },
   "outputs": [
    {
     "data": {
      "text/plain": [
       "ID                     0\n",
       "name                   4\n",
       "category               0\n",
       "main_category          0\n",
       "currency               0\n",
       "deadline               0\n",
       "goal                   0\n",
       "launched               0\n",
       "pledged                0\n",
       "state                  0\n",
       "backers                0\n",
       "country                0\n",
       "usd pledged         3797\n",
       "usd_pledged_real       0\n",
       "usd_goal_real          0\n",
       "dtype: int64"
      ]
     },
     "execution_count": 4,
     "metadata": {},
     "output_type": "execute_result"
    }
   ],
   "source": [
    "ksdf.isnull().sum()"
   ]
  },
  {
   "cell_type": "markdown",
   "metadata": {
    "_uuid": "f165adbf4a9dc085e032f46f7d3f39dd30be5d80"
   },
   "source": [
    "According to the description of data:\n",
    "- **usd pledged**: USD conversion made by Kickstarter for the pledged value\n",
    "- **usd_pledged_real**:  USD conversion made by fixer.io api\n",
    "\n",
    "We will use **usd_pledged_real** for further analysis"
   ]
  },
  {
   "cell_type": "code",
   "execution_count": 5,
   "metadata": {
    "_uuid": "9622796ec3749329bbc3cc5b929bd2a76e552b27"
   },
   "outputs": [
    {
     "data": {
      "text/plain": [
       "Int64Index([166851, 307234, 309991, 338931], dtype='int64')"
      ]
     },
     "execution_count": 5,
     "metadata": {},
     "output_type": "execute_result"
    }
   ],
   "source": [
    "# Check missing values in the column \"name\"\n",
    "ksdf[pd.isnull(ksdf['name'])].index"
   ]
  },
  {
   "cell_type": "code",
   "execution_count": 6,
   "metadata": {
    "_uuid": "64ec4370f3280dcc9575a69527493317577f5a4a"
   },
   "outputs": [
    {
     "data": {
      "text/html": [
       "<div>\n",
       "<style scoped>\n",
       "    .dataframe tbody tr th:only-of-type {\n",
       "        vertical-align: middle;\n",
       "    }\n",
       "\n",
       "    .dataframe tbody tr th {\n",
       "        vertical-align: top;\n",
       "    }\n",
       "\n",
       "    .dataframe thead th {\n",
       "        text-align: right;\n",
       "    }\n",
       "</style>\n",
       "<table border=\"1\" class=\"dataframe\">\n",
       "  <thead>\n",
       "    <tr style=\"text-align: right;\">\n",
       "      <th></th>\n",
       "      <th>ID</th>\n",
       "      <th>name</th>\n",
       "      <th>category</th>\n",
       "      <th>main_category</th>\n",
       "      <th>currency</th>\n",
       "      <th>deadline</th>\n",
       "      <th>goal</th>\n",
       "      <th>launched</th>\n",
       "      <th>pledged</th>\n",
       "      <th>state</th>\n",
       "      <th>backers</th>\n",
       "      <th>country</th>\n",
       "      <th>usd pledged</th>\n",
       "      <th>usd_pledged_real</th>\n",
       "      <th>usd_goal_real</th>\n",
       "    </tr>\n",
       "  </thead>\n",
       "  <tbody>\n",
       "    <tr>\n",
       "      <th>307234</th>\n",
       "      <td>634871725</td>\n",
       "      <td>NaN</td>\n",
       "      <td>Video Games</td>\n",
       "      <td>Games</td>\n",
       "      <td>GBP</td>\n",
       "      <td>2013-01-06</td>\n",
       "      <td>2000.0</td>\n",
       "      <td>2012-12-19 23:57:48</td>\n",
       "      <td>196.0</td>\n",
       "      <td>failed</td>\n",
       "      <td>12</td>\n",
       "      <td>GB</td>\n",
       "      <td>317.73</td>\n",
       "      <td>316.05</td>\n",
       "      <td>3224.97</td>\n",
       "    </tr>\n",
       "  </tbody>\n",
       "</table>\n",
       "</div>"
      ],
      "text/plain": [
       "               ID name     category main_category currency    deadline  \\\n",
       "307234  634871725  NaN  Video Games         Games      GBP  2013-01-06   \n",
       "\n",
       "          goal             launched  pledged   state  backers country  \\\n",
       "307234  2000.0  2012-12-19 23:57:48    196.0  failed       12      GB   \n",
       "\n",
       "        usd pledged  usd_pledged_real  usd_goal_real  \n",
       "307234       317.73            316.05        3224.97  "
      ]
     },
     "execution_count": 6,
     "metadata": {},
     "output_type": "execute_result"
    }
   ],
   "source": [
    "ksdf[ksdf.index == 166851]\n",
    "ksdf[ksdf.index == 307234]"
   ]
  },
  {
   "cell_type": "markdown",
   "metadata": {
    "_uuid": "13b940bdee21d3ded574f812b21db084ed8d0828"
   },
   "source": [
    "Even though there are some missing values in **name**, those are real projects. So I will keep them."
   ]
  },
  {
   "cell_type": "markdown",
   "metadata": {
    "_uuid": "4d5de7423faad5c238543f892d9011e811659e5d"
   },
   "source": [
    "#### 1.2 Modify data columns\n",
    "- According to previous cell, I will drop **usd pledged** columns\n",
    "- Add **pledged_ratio** column that follows the rule:\n",
    " > pledged_ratio = usd_pledged_real/ usd_goal_real\n",
    "- Retrieve **year** & **date** and transform the information as a new column **time** that follows the rule:\n",
    "> `(year - 2009) * 12 + month`\n",
    ">>Since 2009 seems to be the first year that contains meaningful data, we will use this alorithm to get timely manner information\n",
    "- Generate a new dataframe **ksdf_year** for cross-year comparison"
   ]
  },
  {
   "cell_type": "code",
   "execution_count": 7,
   "metadata": {
    "_uuid": "98a31498dfd10db016346e93c08220935523b26f"
   },
   "outputs": [],
   "source": [
    "# Delete usdf pledged column\n",
    "ksdf.drop(['usd pledged'], axis = 1, inplace = True)\n",
    "\n",
    "# Add pledged_ratio column\n",
    "ksdf['pledged_ratio'] = ksdf['usd_pledged_real']/ ksdf['usd_goal_real']"
   ]
  },
  {
   "cell_type": "code",
   "execution_count": 8,
   "metadata": {
    "_uuid": "858e0a3491d096f389b4b250b96d932ff7445782"
   },
   "outputs": [],
   "source": [
    "def year_cut(string):\n",
    "    return string[0:4]\n",
    "\n",
    "def month_cut(string):\n",
    "    return string[5:7]\n",
    "\n",
    "ksdf['year'] = ksdf['launched'].apply(year_cut)\n",
    "ksdf['month'] = ksdf['launched'].apply(month_cut)\n",
    "\n",
    "ksdf['year'] = ksdf['year'].astype(int)\n",
    "ksdf['month'] = ksdf['month'].astype(int)\n",
    "ksdf['time'] = (ksdf['year'].values - 2009)*12 + (ksdf['month']).astype(int)"
   ]
  },
  {
   "cell_type": "code",
   "execution_count": 9,
   "metadata": {
    "_uuid": "ce895910c73b48ee419de8715f2c8f0a5213653e"
   },
   "outputs": [
    {
     "data": {
      "text/plain": [
       "2015    77300\n",
       "2014    67745\n",
       "2016    57184\n",
       "2017    52200\n",
       "2013    44851\n",
       "2012    41165\n",
       "2011    26237\n",
       "2010    10519\n",
       "2009     1329\n",
       "2018      124\n",
       "1970        7\n",
       "Name: year, dtype: int64"
      ]
     },
     "execution_count": 9,
     "metadata": {},
     "output_type": "execute_result"
    }
   ],
   "source": [
    "ksdf['year'].value_counts()"
   ]
  },
  {
   "cell_type": "code",
   "execution_count": 10,
   "metadata": {
    "_uuid": "0b4b46108c9bead023548dbefa9a074560cab984"
   },
   "outputs": [
    {
     "data": {
      "text/html": [
       "<div>\n",
       "<style scoped>\n",
       "    .dataframe tbody tr th:only-of-type {\n",
       "        vertical-align: middle;\n",
       "    }\n",
       "\n",
       "    .dataframe tbody tr th {\n",
       "        vertical-align: top;\n",
       "    }\n",
       "\n",
       "    .dataframe thead th {\n",
       "        text-align: right;\n",
       "    }\n",
       "</style>\n",
       "<table border=\"1\" class=\"dataframe\">\n",
       "  <thead>\n",
       "    <tr style=\"text-align: right;\">\n",
       "      <th></th>\n",
       "      <th>counts</th>\n",
       "    </tr>\n",
       "  </thead>\n",
       "  <tbody>\n",
       "    <tr>\n",
       "      <th>2009</th>\n",
       "      <td>1329</td>\n",
       "    </tr>\n",
       "    <tr>\n",
       "      <th>2010</th>\n",
       "      <td>10519</td>\n",
       "    </tr>\n",
       "    <tr>\n",
       "      <th>2011</th>\n",
       "      <td>26237</td>\n",
       "    </tr>\n",
       "    <tr>\n",
       "      <th>2012</th>\n",
       "      <td>41165</td>\n",
       "    </tr>\n",
       "    <tr>\n",
       "      <th>2013</th>\n",
       "      <td>44851</td>\n",
       "    </tr>\n",
       "    <tr>\n",
       "      <th>2014</th>\n",
       "      <td>67745</td>\n",
       "    </tr>\n",
       "    <tr>\n",
       "      <th>2015</th>\n",
       "      <td>77300</td>\n",
       "    </tr>\n",
       "    <tr>\n",
       "      <th>2016</th>\n",
       "      <td>57184</td>\n",
       "    </tr>\n",
       "    <tr>\n",
       "      <th>2017</th>\n",
       "      <td>52200</td>\n",
       "    </tr>\n",
       "    <tr>\n",
       "      <th>2018</th>\n",
       "      <td>124</td>\n",
       "    </tr>\n",
       "  </tbody>\n",
       "</table>\n",
       "</div>"
      ],
      "text/plain": [
       "      counts\n",
       "2009    1329\n",
       "2010   10519\n",
       "2011   26237\n",
       "2012   41165\n",
       "2013   44851\n",
       "2014   67745\n",
       "2015   77300\n",
       "2016   57184\n",
       "2017   52200\n",
       "2018     124"
      ]
     },
     "execution_count": 10,
     "metadata": {},
     "output_type": "execute_result"
    }
   ],
   "source": [
    "ksdf_year = {}\n",
    "for year in range(2009, 2019):\n",
    "    ksdf_year[year] = ksdf[ksdf['year'] == year]['year'].count()\n",
    "\n",
    "ksdf_year = pd.Series(ksdf_year)\n",
    "ksdf_year = pd.DataFrame(ksdf_year)\n",
    "ksdf_year = ksdf_year.rename(columns = {0: \"counts\"})\n",
    "ksdf_year"
   ]
  },
  {
   "cell_type": "markdown",
   "metadata": {
    "_uuid": "ebfe6252b046e0103f005f82859a6f1b84dd7bf6"
   },
   "source": [
    "#### 1.3 Number of projects proposed/  successful rate\n",
    "- Overall number of proposed projects\n",
    "- Overall successful rate\n",
    "- Cross year comparison of above 2 items"
   ]
  },
  {
   "cell_type": "code",
   "execution_count": 11,
   "metadata": {
    "_uuid": "4c6789feb3b6d25cf8679f112411580d053306a2"
   },
   "outputs": [
    {
     "data": {
      "text/plain": [
       "failed        197719\n",
       "successful    133956\n",
       "canceled       38779\n",
       "undefined       3562\n",
       "live            2799\n",
       "suspended       1846\n",
       "Name: state, dtype: int64"
      ]
     },
     "execution_count": 11,
     "metadata": {},
     "output_type": "execute_result"
    }
   ],
   "source": [
    "ksdf['state'].value_counts()"
   ]
  },
  {
   "cell_type": "code",
   "execution_count": 12,
   "metadata": {
    "_uuid": "faaf5cad177a20f31a17e8a81fd9a7bb12d5992a",
    "scrolled": true
   },
   "outputs": [
    {
     "name": "stdout",
     "output_type": "stream",
     "text": [
      "Year =  2009 43.566591422121896 %\n",
      "Year =  2010 43.66384637322939 %\n",
      "Year =  2011 46.38868773106681 %\n",
      "Year =  2012 43.46410785861776 %\n",
      "Year =  2013 43.28777507747876 %\n",
      "Year =  2014 31.156542918296555 %\n",
      "Year =  2015 27.129366106080205 %\n",
      "Year =  2016 32.81687185226637 %\n",
      "Year =  2017 35.367816091954026 %\n",
      "Year =  2018 0.0 %\n"
     ]
    }
   ],
   "source": [
    "success_timely = []\n",
    "\n",
    "for year in range(2009, 2019):\n",
    "    success = len (ksdf[(ksdf['year'] == year) & (ksdf['state'] == 'successful')]['state'])\n",
    "    overall = len (ksdf[ksdf['year'] == year]['year'])\n",
    "    ratio = success/ overall\n",
    "    success_timely.append(ratio)\n",
    "    print (\"Year = \",year, ratio * 100, '%')"
   ]
  },
  {
   "cell_type": "code",
   "execution_count": 13,
   "metadata": {
    "_uuid": "0ab9f88893d7d492d916bc5454da5f09443e0955"
   },
   "outputs": [
    {
     "data": {
      "text/plain": [
       "live        122\n",
       "canceled      2\n",
       "Name: state, dtype: int64"
      ]
     },
     "execution_count": 13,
     "metadata": {},
     "output_type": "execute_result"
    }
   ],
   "source": [
    "ksdf[ksdf['year'] == 2018]['state'].value_counts()"
   ]
  },
  {
   "cell_type": "code",
   "execution_count": 14,
   "metadata": {
    "_uuid": "25c511453b820b3811a72ad7b1f7ff357474c900"
   },
   "outputs": [
    {
     "data": {
      "text/plain": [
       "<bound method NDFrame.head of       counts  success_ratio\n",
       "2009    1329       0.435666\n",
       "2010   10519       0.436638\n",
       "2011   26237       0.463887\n",
       "2012   41165       0.434641\n",
       "2013   44851       0.432878\n",
       "2014   67745       0.311565\n",
       "2015   77300       0.271294\n",
       "2016   57184       0.328169\n",
       "2017   52200       0.353678\n",
       "2018     124       0.000000>"
      ]
     },
     "execution_count": 14,
     "metadata": {},
     "output_type": "execute_result"
    }
   ],
   "source": [
    "ksdf_year['success_ratio'] = success_timely\n",
    "ksdf_year.head"
   ]
  },
  {
   "cell_type": "code",
   "execution_count": 15,
   "metadata": {
    "_uuid": "d6a796edf9d0c7888505269d5701e376f2715caa"
   },
   "outputs": [
    {
     "data": {
      "text/plain": [
       "52200"
      ]
     },
     "execution_count": 15,
     "metadata": {},
     "output_type": "execute_result"
    }
   ],
   "source": [
    "ksdf[ksdf['year'] == 2017]['backers'].count()"
   ]
  },
  {
   "cell_type": "code",
   "execution_count": 16,
   "metadata": {
    "_uuid": "f1cf1f7cf6ed134bf661fe941e68e6a9972f0e6d"
   },
   "outputs": [],
   "source": [
    "backers_year = {}\n",
    "for year in range(2009, 2019):\n",
    "    backers_count = ksdf[ksdf['year'] == year]['backers'].sum()\n",
    "    backers_year[year] = backers_count\n",
    "\n",
    "ksdf_year['backers'] = pd.Series(backers_year)"
   ]
  },
  {
   "cell_type": "code",
   "execution_count": 17,
   "metadata": {
    "_uuid": "2e08d5ca48390df39a508f6398f33874fccd331a"
   },
   "outputs": [
    {
     "data": {
      "image/png": "[encoded data removed]",
      "text/plain": [
       "<Figure size 432x288 with 1 Axes>"
      ]
     },
     "metadata": {},
     "output_type": "display_data"
    }
   ],
   "source": [
    "# Cross-year proposed projects\n",
    "sns.set_style(\"whitegrid\")\n",
    "sns.barplot(ksdf_year['counts'].index, y= ksdf_year['counts'] ,\n",
    "            palette=\"Blues_d\", saturation = 0.5)\n",
    "sns.despine(right = True, top = True)"
   ]
  },
  {
   "cell_type": "code",
   "execution_count": 18,
   "metadata": {
    "_uuid": "ed0859b3b58c8fed9e3fd9f1c631e9667d45d777"
   },
   "outputs": [
    {
     "data": {
      "image/png": "[encoded data removed]",
      "text/plain": [
       "<Figure size 432x288 with 1 Axes>"
      ]
     },
     "metadata": {},
     "output_type": "display_data"
    }
   ],
   "source": [
    "# Cross-year success ratio\n",
    "sns.set_style(\"whitegrid\")\n",
    "sns.barplot(ksdf_year['success_ratio'].index, y= ksdf_year['success_ratio'], data = ksdf_year,\n",
    "            palette=\"Blues_d\", saturation = 0.5)\n",
    "sns.despine(right = True, top = True)"
   ]
  },
  {
   "cell_type": "code",
   "execution_count": 19,
   "metadata": {
    "_uuid": "f5d9febd6c6ce7f573714968cdb20c910a3e1009"
   },
   "outputs": [
    {
     "data": {
      "image/png": "[encoded data removed]",
      "text/plain": [
       "<Figure size 432x288 with 1 Axes>"
      ]
     },
     "metadata": {},
     "output_type": "display_data"
    }
   ],
   "source": [
    "sns.set_style(\"whitegrid\")\n",
    "sns.barplot(ksdf_year['backers'].index, y= ksdf_year['backers'] ,\n",
    "            palette=\"Blues_d\", saturation = 0.5)\n",
    "sns.despine(right = True, top = True)"
   ]
  },
  {
   "cell_type": "markdown",
   "metadata": {
    "_uuid": "f41eea6120c90032b2275a411ed6aedd4d69a70b"
   },
   "source": [
    "#### 1.4 Statistics of pledged amount\n",
    "- Descripitive statistics of pledged amount\n",
    "- Pledged amount comparison by state (successful/ failed/ others)"
   ]
  },
  {
   "cell_type": "code",
   "execution_count": 20,
   "metadata": {
    "_uuid": "be725520edca362bf652d5cec816d64b17dbf427"
   },
   "outputs": [
    {
     "name": "stdout",
     "output_type": "stream",
     "text": [
      "3430261248.830001\n"
     ]
    }
   ],
   "source": [
    "sum_pledged = ksdf['usd_pledged_real'].sum()\n",
    "print (sum_pledged)"
   ]
  },
  {
   "cell_type": "code",
   "execution_count": 21,
   "metadata": {
    "_uuid": "321b8e9fe835e6da837d5466cb18e5bd12b00565"
   },
   "outputs": [
    {
     "data": {
      "text/plain": [
       "count    3.786610e+05\n",
       "mean     9.058924e+03\n",
       "std      9.097334e+04\n",
       "min      0.000000e+00\n",
       "25%      3.100000e+01\n",
       "50%      6.243300e+02\n",
       "75%      4.050000e+03\n",
       "max      2.033899e+07\n",
       "Name: usd_pledged_real, dtype: float64"
      ]
     },
     "execution_count": 21,
     "metadata": {},
     "output_type": "execute_result"
    }
   ],
   "source": [
    "ksdf['usd_pledged_real'].describe()"
   ]
  },
  {
   "cell_type": "code",
   "execution_count": 22,
   "metadata": {
    "_uuid": "d3e5f98b16e8703de5cbaa468af0ac3415105f01"
   },
   "outputs": [
    {
     "name": "stdout",
     "output_type": "stream",
     "text": [
      "3036889045.99 88.53229610502194 %\n",
      "261108466.04999995 7.611911953909028 %\n",
      "132263736.78999999 3.855791941068999 %\n"
     ]
    }
   ],
   "source": [
    "# Ratio of successful/ failed / others\n",
    "success_pledged = ksdf[ksdf['state'] == \"successful\"]['usd_pledged_real'].sum()\n",
    "fail_pledged = ksdf[ksdf['state'] == 'failed']['usd_pledged_real'].sum()\n",
    "others_pledged = (ksdf[ksdf['state'] == 'canceled']['usd_pledged_real'].sum() +\n",
    "                  ksdf[ksdf['state'] == 'undefined']['usd_pledged_real'].sum() +\n",
    "                  ksdf[ksdf['state'] == 'live']['usd_pledged_real'].sum() +\n",
    "                  ksdf[ksdf['state'] == 'suspended']['usd_pledged_real'].sum())\n",
    "\n",
    "print (success_pledged, success_pledged/ sum_pledged * 100, '%')\n",
    "print (fail_pledged, fail_pledged/ sum_pledged * 100, '%')\n",
    "print (others_pledged, others_pledged/ sum_pledged * 100, '%')"
   ]
  },
  {
   "cell_type": "code",
   "execution_count": 23,
   "metadata": {
    "_uuid": "a2159a505e825bec3fb38624e533ef7b448aaa82"
   },
   "outputs": [
    {
     "name": "stdout",
     "output_type": "stream",
     "text": [
      "Average pledged amount per successful project =  22670.795231195316\n",
      "Average pledged amount per failed project =  1320.60381678038\n",
      "Average pledged amount per other project =  2814.9605582513936\n"
     ]
    }
   ],
   "source": [
    "success_projects = ksdf[ksdf['state'] == 'successful']['state'].count()\n",
    "fail_projects  = ksdf[ksdf['state'] == 'failed']['state'].count()\n",
    "others_projects  = (\n",
    "    ksdf[ksdf['state'] == 'canceled']['state'].count() +\n",
    "    ksdf[ksdf['state'] == 'live']['state'].count() +\n",
    "    ksdf[ksdf['state'] == 'undefined']['state'].count() +\n",
    "    ksdf[ksdf['state'] == 'suspended']['state'].count())\n",
    "\n",
    "print (\"Average pledged amount per successful project = \",success_pledged/success_projects)\n",
    "print (\"Average pledged amount per failed project = \",fail_pledged/ fail_projects)\n",
    "print (\"Average pledged amount per other project = \",others_pledged/ others_projects)"
   ]
  },
  {
   "cell_type": "code",
   "execution_count": 24,
   "metadata": {
    "_uuid": "086008b281c66d04ee7157341765bf3afeee0c8d"
   },
   "outputs": [
    {
     "data": {
      "text/plain": [
       "17.166992273685718"
      ]
     },
     "execution_count": 24,
     "metadata": {},
     "output_type": "execute_result"
    }
   ],
   "source": [
    "22670.7952312/1320.6038"
   ]
  },
  {
   "cell_type": "code",
   "execution_count": 25,
   "metadata": {
    "_uuid": "36fecd8dfb7bc411d4e6468037a4cc2517c7c4f3"
   },
   "outputs": [
    {
     "data": {
      "image/png": "[encoded data removed]",
      "text/plain": [
       "<Figure size 432x288 with 1 Axes>"
      ]
     },
     "metadata": {},
     "output_type": "display_data"
    }
   ],
   "source": [
    "sns.set_style(\"whitegrid\")\n",
    "sns.barplot([\"Successful\", \"Failed\", \"Others\"],\n",
    "            y= [22670.7952312, 1320.60381678, 2814.96055825],\n",
    "            palette = \"Set1\",\n",
    "            saturation = 0.5)\n",
    "sns.despine(right = True, top = True)"
   ]
  },
  {
   "cell_type": "markdown",
   "metadata": {
    "_uuid": "67b02f077e73ffe10fa127cb61abc189eb2a3228"
   },
   "source": [
    "## 2. Region\n",
    "- 2.1 Projects proposed across regions"
   ]
  },
  {
   "cell_type": "code",
   "execution_count": 26,
   "metadata": {
    "_uuid": "957a1fe0012226c0e6c84a10a636df08a10392a1"
   },
   "outputs": [
    {
     "data": {
      "text/plain": [
       "array(['GB', 'US', 'CA', 'AU', 'NO', 'IT', 'DE', 'IE', 'MX', 'ES', 'N,0\"',\n",
       "       'SE', 'FR', 'NL', 'NZ', 'CH', 'AT', 'DK', 'BE', 'HK', 'LU', 'SG',\n",
       "       'JP'], dtype=object)"
      ]
     },
     "execution_count": 26,
     "metadata": {},
     "output_type": "execute_result"
    }
   ],
   "source": [
    "ksdf['country'].unique()"
   ]
  },
  {
   "cell_type": "code",
   "execution_count": 27,
   "metadata": {
    "_uuid": "74c8a932d2fb879b008c3b8d17e56df6a3d3439e"
   },
   "outputs": [
    {
     "data": {
      "text/plain": [
       "US      292627\n",
       "GB       33672\n",
       "CA       14756\n",
       "AU        7839\n",
       "DE        4171\n",
       "N,0\"      3797\n",
       "FR        2939\n",
       "IT        2878\n",
       "NL        2868\n",
       "ES        2276\n",
       "SE        1757\n",
       "MX        1752\n",
       "NZ        1447\n",
       "DK        1113\n",
       "IE         811\n",
       "CH         761\n",
       "NO         708\n",
       "HK         618\n",
       "BE         617\n",
       "AT         597\n",
       "SG         555\n",
       "LU          62\n",
       "JP          40\n",
       "Name: country, dtype: int64"
      ]
     },
     "execution_count": 27,
     "metadata": {},
     "output_type": "execute_result"
    }
   ],
   "source": [
    "ksdf['country'].value_counts()"
   ]
  },
  {
   "cell_type": "code",
   "execution_count": 28,
   "metadata": {
    "_uuid": "22773e2b4b610532f20848e5ac607792f5ed7de1"
   },
   "outputs": [
    {
     "data": {
      "image/png": "[encoded data removed]",
      "text/plain": [
       "<Figure size 432x288 with 1 Axes>"
      ]
     },
     "metadata": {},
     "output_type": "display_data"
    }
   ],
   "source": [
    "sns.countplot(ksdf['country'], palette = 'Set1', order = ksdf['country'].value_counts().index)\n",
    "sns.despine(bottom = True, left = True)"
   ]
  },
  {
   "cell_type": "code",
   "execution_count": 29,
   "metadata": {
    "_uuid": "cdfc422630f9c7355f65f8a743014a5ca992958c"
   },
   "outputs": [
    {
     "name": "stdout",
     "output_type": "stream",
     "text": [
      "77.27941351235009 %\n"
     ]
    }
   ],
   "source": [
    "us = ksdf[ksdf['country'] == \"US\"]['country'].count()\n",
    "print (us/len(ksdf['country']) * 100, \"%\")"
   ]
  },
  {
   "cell_type": "markdown",
   "metadata": {
    "_uuid": "68a3d4810bbbd947a0f8804d7c3b125d4aaad094"
   },
   "source": []
  },
  {
   "cell_type": "markdown",
   "metadata": {
    "_uuid": "d603907a397a074ce65fd481c1ff295e10b05c3f"
   },
   "source": [
    "\n",
    "## 3. Caterogy\n",
    "* 3.1 Projects proposed across categories\n",
    "* 3.2 Pledged amount across categories\n",
    "* 3.3 Success rate across categories\n",
    "\n",
    "We will go through this part by creating a new dataframe **cate_df** to record some information, including:\n",
    "- **pledged_sum** -> Sum of the pledged money for each categories\n",
    "- **count** -> Project counts for each categories\n",
    "- **average_amount** -> Average pledged amount for each categories \n",
    "- **success_count** -> Successful projects counts for each categories\n",
    "- **success_rate** -> The ratio of success for each categories"
   ]
  },
  {
   "cell_type": "markdown",
   "metadata": {
    "_uuid": "b516c0fd1010f8a0b18d58f4c56d237e94f87fe7"
   },
   "source": [
    "Adding **pledged_sum**"
   ]
  },
  {
   "cell_type": "code",
   "execution_count": 30,
   "metadata": {
    "_uuid": "82cbc5185a36e34759dfa3d25e443723f78402c8"
   },
   "outputs": [
    {
     "data": {
      "text/html": [
       "<div>\n",
       "<style scoped>\n",
       "    .dataframe tbody tr th:only-of-type {\n",
       "        vertical-align: middle;\n",
       "    }\n",
       "\n",
       "    .dataframe tbody tr th {\n",
       "        vertical-align: top;\n",
       "    }\n",
       "\n",
       "    .dataframe thead th {\n",
       "        text-align: right;\n",
       "    }\n",
       "</style>\n",
       "<table border=\"1\" class=\"dataframe\">\n",
       "  <thead>\n",
       "    <tr style=\"text-align: right;\">\n",
       "      <th></th>\n",
       "      <th>pledged_sum</th>\n",
       "    </tr>\n",
       "  </thead>\n",
       "  <tbody>\n",
       "    <tr>\n",
       "      <th>Music</th>\n",
       "      <td>2.003187e+08</td>\n",
       "    </tr>\n",
       "    <tr>\n",
       "      <th>Dance</th>\n",
       "      <td>1.301070e+07</td>\n",
       "    </tr>\n",
       "    <tr>\n",
       "      <th>Crafts</th>\n",
       "      <td>1.438428e+07</td>\n",
       "    </tr>\n",
       "    <tr>\n",
       "      <th>Journalism</th>\n",
       "      <td>1.243767e+07</td>\n",
       "    </tr>\n",
       "    <tr>\n",
       "      <th>Film &amp; Video</th>\n",
       "      <td>3.915551e+08</td>\n",
       "    </tr>\n",
       "  </tbody>\n",
       "</table>\n",
       "</div>"
      ],
      "text/plain": [
       "               pledged_sum\n",
       "Music         2.003187e+08\n",
       "Dance         1.301070e+07\n",
       "Crafts        1.438428e+07\n",
       "Journalism    1.243767e+07\n",
       "Film & Video  3.915551e+08"
      ]
     },
     "execution_count": 30,
     "metadata": {},
     "output_type": "execute_result"
    }
   ],
   "source": [
    "pledged_sum = {}\n",
    "for category in list(set(ksdf['main_category'])):\n",
    "    amount = ksdf[ksdf['main_category'] == category]['usd_pledged_real'].sum()\n",
    "    pledged_sum[category] = amount\n",
    "\n",
    "# Create dataframe\n",
    "cate_df = pd.Series(pledged_sum)\n",
    "cate_df = pd.DataFrame(cate_df)\n",
    "cate_df = cate_df.rename(columns = {0:\"pledged_sum\"})\n",
    "\n",
    "cate_df.head()"
   ]
  },
  {
   "cell_type": "markdown",
   "metadata": {
    "_uuid": "5fa35f8dc78eaa49ed0c836c3d1566f9dee80ad8"
   },
   "source": [
    "Adding **count**"
   ]
  },
  {
   "cell_type": "code",
   "execution_count": 31,
   "metadata": {
    "_uuid": "546126e93c6a7ee3807ba3f3c70bf9d6ad7c06b8"
   },
   "outputs": [
    {
     "data": {
      "text/html": [
       "<div>\n",
       "<style scoped>\n",
       "    .dataframe tbody tr th:only-of-type {\n",
       "        vertical-align: middle;\n",
       "    }\n",
       "\n",
       "    .dataframe tbody tr th {\n",
       "        vertical-align: top;\n",
       "    }\n",
       "\n",
       "    .dataframe thead th {\n",
       "        text-align: right;\n",
       "    }\n",
       "</style>\n",
       "<table border=\"1\" class=\"dataframe\">\n",
       "  <thead>\n",
       "    <tr style=\"text-align: right;\">\n",
       "      <th></th>\n",
       "      <th>pledged_sum</th>\n",
       "      <th>count</th>\n",
       "    </tr>\n",
       "  </thead>\n",
       "  <tbody>\n",
       "    <tr>\n",
       "      <th>Music</th>\n",
       "      <td>2.003187e+08</td>\n",
       "      <td>51918</td>\n",
       "    </tr>\n",
       "    <tr>\n",
       "      <th>Dance</th>\n",
       "      <td>1.301070e+07</td>\n",
       "      <td>3768</td>\n",
       "    </tr>\n",
       "    <tr>\n",
       "      <th>Crafts</th>\n",
       "      <td>1.438428e+07</td>\n",
       "      <td>8809</td>\n",
       "    </tr>\n",
       "    <tr>\n",
       "      <th>Journalism</th>\n",
       "      <td>1.243767e+07</td>\n",
       "      <td>4755</td>\n",
       "    </tr>\n",
       "    <tr>\n",
       "      <th>Film &amp; Video</th>\n",
       "      <td>3.915551e+08</td>\n",
       "      <td>63585</td>\n",
       "    </tr>\n",
       "  </tbody>\n",
       "</table>\n",
       "</div>"
      ],
      "text/plain": [
       "               pledged_sum  count\n",
       "Music         2.003187e+08  51918\n",
       "Dance         1.301070e+07   3768\n",
       "Crafts        1.438428e+07   8809\n",
       "Journalism    1.243767e+07   4755\n",
       "Film & Video  3.915551e+08  63585"
      ]
     },
     "execution_count": 31,
     "metadata": {},
     "output_type": "execute_result"
    }
   ],
   "source": [
    "cate_count = {}\n",
    "for category in list(set(ksdf['main_category'])):\n",
    "    count = ksdf[ksdf['main_category'] == category]['main_category'].count()\n",
    "    cate_count[category] = count\n",
    "    \n",
    "cate_df['count'] = pd.Series(cate_count)\n",
    "\n",
    "cate_df.head()"
   ]
  },
  {
   "cell_type": "markdown",
   "metadata": {
    "_uuid": "badc06dc067dc62a27b529571d877a5701e369bd"
   },
   "source": [
    "Adding **average_amount**"
   ]
  },
  {
   "cell_type": "code",
   "execution_count": 32,
   "metadata": {
    "_uuid": "426e861db8c57dbb92d814d8d06aadf49124e14f"
   },
   "outputs": [
    {
     "data": {
      "text/html": [
       "<div>\n",
       "<style scoped>\n",
       "    .dataframe tbody tr th:only-of-type {\n",
       "        vertical-align: middle;\n",
       "    }\n",
       "\n",
       "    .dataframe tbody tr th {\n",
       "        vertical-align: top;\n",
       "    }\n",
       "\n",
       "    .dataframe thead th {\n",
       "        text-align: right;\n",
       "    }\n",
       "</style>\n",
       "<table border=\"1\" class=\"dataframe\">\n",
       "  <thead>\n",
       "    <tr style=\"text-align: right;\">\n",
       "      <th></th>\n",
       "      <th>pledged_sum</th>\n",
       "      <th>count</th>\n",
       "      <th>average_amount</th>\n",
       "    </tr>\n",
       "  </thead>\n",
       "  <tbody>\n",
       "    <tr>\n",
       "      <th>Music</th>\n",
       "      <td>2.003187e+08</td>\n",
       "      <td>51918</td>\n",
       "      <td>3858.367608</td>\n",
       "    </tr>\n",
       "    <tr>\n",
       "      <th>Dance</th>\n",
       "      <td>1.301070e+07</td>\n",
       "      <td>3768</td>\n",
       "      <td>3452.946356</td>\n",
       "    </tr>\n",
       "    <tr>\n",
       "      <th>Crafts</th>\n",
       "      <td>1.438428e+07</td>\n",
       "      <td>8809</td>\n",
       "      <td>1632.907282</td>\n",
       "    </tr>\n",
       "    <tr>\n",
       "      <th>Journalism</th>\n",
       "      <td>1.243767e+07</td>\n",
       "      <td>4755</td>\n",
       "      <td>2615.702568</td>\n",
       "    </tr>\n",
       "    <tr>\n",
       "      <th>Film &amp; Video</th>\n",
       "      <td>3.915551e+08</td>\n",
       "      <td>63585</td>\n",
       "      <td>6157.978427</td>\n",
       "    </tr>\n",
       "  </tbody>\n",
       "</table>\n",
       "</div>"
      ],
      "text/plain": [
       "               pledged_sum  count  average_amount\n",
       "Music         2.003187e+08  51918     3858.367608\n",
       "Dance         1.301070e+07   3768     3452.946356\n",
       "Crafts        1.438428e+07   8809     1632.907282\n",
       "Journalism    1.243767e+07   4755     2615.702568\n",
       "Film & Video  3.915551e+08  63585     6157.978427"
      ]
     },
     "execution_count": 32,
     "metadata": {},
     "output_type": "execute_result"
    }
   ],
   "source": [
    "cate_df['average_amount'] = cate_df['pledged_sum']/ cate_df['count']\n",
    "cate_df.head()"
   ]
  },
  {
   "cell_type": "markdown",
   "metadata": {
    "_uuid": "09ce426103bad6c357ab804ffe9368d345e6df6b"
   },
   "source": [
    "Adding **success_rate**"
   ]
  },
  {
   "cell_type": "code",
   "execution_count": 33,
   "metadata": {
    "_uuid": "1f66f2a552e91243b6781f4a27beebdc129aa053"
   },
   "outputs": [
    {
     "data": {
      "text/html": [
       "<div>\n",
       "<style scoped>\n",
       "    .dataframe tbody tr th:only-of-type {\n",
       "        vertical-align: middle;\n",
       "    }\n",
       "\n",
       "    .dataframe tbody tr th {\n",
       "        vertical-align: top;\n",
       "    }\n",
       "\n",
       "    .dataframe thead th {\n",
       "        text-align: right;\n",
       "    }\n",
       "</style>\n",
       "<table border=\"1\" class=\"dataframe\">\n",
       "  <thead>\n",
       "    <tr style=\"text-align: right;\">\n",
       "      <th></th>\n",
       "      <th>pledged_sum</th>\n",
       "      <th>count</th>\n",
       "      <th>average_amount</th>\n",
       "      <th>success_count</th>\n",
       "    </tr>\n",
       "  </thead>\n",
       "  <tbody>\n",
       "    <tr>\n",
       "      <th>Music</th>\n",
       "      <td>2.003187e+08</td>\n",
       "      <td>51918</td>\n",
       "      <td>3858.367608</td>\n",
       "      <td>24197</td>\n",
       "    </tr>\n",
       "    <tr>\n",
       "      <th>Dance</th>\n",
       "      <td>1.301070e+07</td>\n",
       "      <td>3768</td>\n",
       "      <td>3452.946356</td>\n",
       "      <td>2338</td>\n",
       "    </tr>\n",
       "    <tr>\n",
       "      <th>Crafts</th>\n",
       "      <td>1.438428e+07</td>\n",
       "      <td>8809</td>\n",
       "      <td>1632.907282</td>\n",
       "      <td>2115</td>\n",
       "    </tr>\n",
       "    <tr>\n",
       "      <th>Journalism</th>\n",
       "      <td>1.243767e+07</td>\n",
       "      <td>4755</td>\n",
       "      <td>2615.702568</td>\n",
       "      <td>1012</td>\n",
       "    </tr>\n",
       "    <tr>\n",
       "      <th>Film &amp; Video</th>\n",
       "      <td>3.915551e+08</td>\n",
       "      <td>63585</td>\n",
       "      <td>6157.978427</td>\n",
       "      <td>23623</td>\n",
       "    </tr>\n",
       "  </tbody>\n",
       "</table>\n",
       "</div>"
      ],
      "text/plain": [
       "               pledged_sum  count  average_amount  success_count\n",
       "Music         2.003187e+08  51918     3858.367608          24197\n",
       "Dance         1.301070e+07   3768     3452.946356           2338\n",
       "Crafts        1.438428e+07   8809     1632.907282           2115\n",
       "Journalism    1.243767e+07   4755     2615.702568           1012\n",
       "Film & Video  3.915551e+08  63585     6157.978427          23623"
      ]
     },
     "execution_count": 33,
     "metadata": {},
     "output_type": "execute_result"
    }
   ],
   "source": [
    "success = {}\n",
    "for category in list(set(ksdf['main_category'])):\n",
    "    success_count = len(ksdf[(ksdf['main_category'] == category) & \n",
    "         (ksdf['state'] == \"successful\")])\n",
    "    success[category] = success_count\n",
    "\n",
    "cate_df[\"success_count\"] = pd.Series(success)\n",
    "cate_df.head()"
   ]
  },
  {
   "cell_type": "code",
   "execution_count": 34,
   "metadata": {
    "_uuid": "6e677affb8ac4e83313acd0c91fe4e982db8e2b1"
   },
   "outputs": [
    {
     "data": {
      "text/html": [
       "<div>\n",
       "<style scoped>\n",
       "    .dataframe tbody tr th:only-of-type {\n",
       "        vertical-align: middle;\n",
       "    }\n",
       "\n",
       "    .dataframe tbody tr th {\n",
       "        vertical-align: top;\n",
       "    }\n",
       "\n",
       "    .dataframe thead th {\n",
       "        text-align: right;\n",
       "    }\n",
       "</style>\n",
       "<table border=\"1\" class=\"dataframe\">\n",
       "  <thead>\n",
       "    <tr style=\"text-align: right;\">\n",
       "      <th></th>\n",
       "      <th>pledged_sum</th>\n",
       "      <th>count</th>\n",
       "      <th>average_amount</th>\n",
       "      <th>success_count</th>\n",
       "    </tr>\n",
       "  </thead>\n",
       "  <tbody>\n",
       "    <tr>\n",
       "      <th>Games</th>\n",
       "      <td>7.413273e+08</td>\n",
       "      <td>35231</td>\n",
       "      <td>21041.903140</td>\n",
       "      <td>12518</td>\n",
       "    </tr>\n",
       "    <tr>\n",
       "      <th>Design</th>\n",
       "      <td>7.342202e+08</td>\n",
       "      <td>30070</td>\n",
       "      <td>24417.034698</td>\n",
       "      <td>10550</td>\n",
       "    </tr>\n",
       "    <tr>\n",
       "      <th>Technology</th>\n",
       "      <td>6.888725e+08</td>\n",
       "      <td>32569</td>\n",
       "      <td>21151.171165</td>\n",
       "      <td>6434</td>\n",
       "    </tr>\n",
       "    <tr>\n",
       "      <th>Film &amp; Video</th>\n",
       "      <td>3.915551e+08</td>\n",
       "      <td>63585</td>\n",
       "      <td>6157.978427</td>\n",
       "      <td>23623</td>\n",
       "    </tr>\n",
       "    <tr>\n",
       "      <th>Music</th>\n",
       "      <td>2.003187e+08</td>\n",
       "      <td>51918</td>\n",
       "      <td>3858.367608</td>\n",
       "      <td>24197</td>\n",
       "    </tr>\n",
       "    <tr>\n",
       "      <th>Publishing</th>\n",
       "      <td>1.335760e+08</td>\n",
       "      <td>39874</td>\n",
       "      <td>3349.951931</td>\n",
       "      <td>12300</td>\n",
       "    </tr>\n",
       "    <tr>\n",
       "      <th>Fashion</th>\n",
       "      <td>1.303353e+08</td>\n",
       "      <td>22816</td>\n",
       "      <td>5712.450839</td>\n",
       "      <td>5593</td>\n",
       "    </tr>\n",
       "    <tr>\n",
       "      <th>Food</th>\n",
       "      <td>1.258065e+08</td>\n",
       "      <td>24602</td>\n",
       "      <td>5113.669716</td>\n",
       "      <td>6085</td>\n",
       "    </tr>\n",
       "    <tr>\n",
       "      <th>Art</th>\n",
       "      <td>9.068045e+07</td>\n",
       "      <td>28153</td>\n",
       "      <td>3220.986968</td>\n",
       "      <td>11510</td>\n",
       "    </tr>\n",
       "    <tr>\n",
       "      <th>Comics</th>\n",
       "      <td>7.151839e+07</td>\n",
       "      <td>10819</td>\n",
       "      <td>6610.443828</td>\n",
       "      <td>5842</td>\n",
       "    </tr>\n",
       "    <tr>\n",
       "      <th>Theater</th>\n",
       "      <td>4.371658e+07</td>\n",
       "      <td>10913</td>\n",
       "      <td>4005.918099</td>\n",
       "      <td>6534</td>\n",
       "    </tr>\n",
       "    <tr>\n",
       "      <th>Photography</th>\n",
       "      <td>3.850161e+07</td>\n",
       "      <td>10779</td>\n",
       "      <td>3571.909322</td>\n",
       "      <td>3305</td>\n",
       "    </tr>\n",
       "    <tr>\n",
       "      <th>Crafts</th>\n",
       "      <td>1.438428e+07</td>\n",
       "      <td>8809</td>\n",
       "      <td>1632.907282</td>\n",
       "      <td>2115</td>\n",
       "    </tr>\n",
       "    <tr>\n",
       "      <th>Dance</th>\n",
       "      <td>1.301070e+07</td>\n",
       "      <td>3768</td>\n",
       "      <td>3452.946356</td>\n",
       "      <td>2338</td>\n",
       "    </tr>\n",
       "    <tr>\n",
       "      <th>Journalism</th>\n",
       "      <td>1.243767e+07</td>\n",
       "      <td>4755</td>\n",
       "      <td>2615.702568</td>\n",
       "      <td>1012</td>\n",
       "    </tr>\n",
       "  </tbody>\n",
       "</table>\n",
       "</div>"
      ],
      "text/plain": [
       "               pledged_sum  count  average_amount  success_count\n",
       "Games         7.413273e+08  35231    21041.903140          12518\n",
       "Design        7.342202e+08  30070    24417.034698          10550\n",
       "Technology    6.888725e+08  32569    21151.171165           6434\n",
       "Film & Video  3.915551e+08  63585     6157.978427          23623\n",
       "Music         2.003187e+08  51918     3858.367608          24197\n",
       "Publishing    1.335760e+08  39874     3349.951931          12300\n",
       "Fashion       1.303353e+08  22816     5712.450839           5593\n",
       "Food          1.258065e+08  24602     5113.669716           6085\n",
       "Art           9.068045e+07  28153     3220.986968          11510\n",
       "Comics        7.151839e+07  10819     6610.443828           5842\n",
       "Theater       4.371658e+07  10913     4005.918099           6534\n",
       "Photography   3.850161e+07  10779     3571.909322           3305\n",
       "Crafts        1.438428e+07   8809     1632.907282           2115\n",
       "Dance         1.301070e+07   3768     3452.946356           2338\n",
       "Journalism    1.243767e+07   4755     2615.702568           1012"
      ]
     },
     "execution_count": 34,
     "metadata": {},
     "output_type": "execute_result"
    }
   ],
   "source": [
    "cate_df.sort_values('pledged_sum', ascending = False)"
   ]
  },
  {
   "cell_type": "code",
   "execution_count": 35,
   "metadata": {
    "_uuid": "e319b1c46da51ddb1b54783ae217514780374003"
   },
   "outputs": [
    {
     "data": {
      "text/html": [
       "<div>\n",
       "<style scoped>\n",
       "    .dataframe tbody tr th:only-of-type {\n",
       "        vertical-align: middle;\n",
       "    }\n",
       "\n",
       "    .dataframe tbody tr th {\n",
       "        vertical-align: top;\n",
       "    }\n",
       "\n",
       "    .dataframe thead th {\n",
       "        text-align: right;\n",
       "    }\n",
       "</style>\n",
       "<table border=\"1\" class=\"dataframe\">\n",
       "  <thead>\n",
       "    <tr style=\"text-align: right;\">\n",
       "      <th></th>\n",
       "      <th>pledged_sum</th>\n",
       "      <th>count</th>\n",
       "      <th>average_amount</th>\n",
       "      <th>success_count</th>\n",
       "      <th>success_rate</th>\n",
       "    </tr>\n",
       "  </thead>\n",
       "  <tbody>\n",
       "    <tr>\n",
       "      <th>Music</th>\n",
       "      <td>2.003187e+08</td>\n",
       "      <td>51918</td>\n",
       "      <td>3858.367608</td>\n",
       "      <td>24197</td>\n",
       "      <td>0.466062</td>\n",
       "    </tr>\n",
       "    <tr>\n",
       "      <th>Dance</th>\n",
       "      <td>1.301070e+07</td>\n",
       "      <td>3768</td>\n",
       "      <td>3452.946356</td>\n",
       "      <td>2338</td>\n",
       "      <td>0.620488</td>\n",
       "    </tr>\n",
       "    <tr>\n",
       "      <th>Crafts</th>\n",
       "      <td>1.438428e+07</td>\n",
       "      <td>8809</td>\n",
       "      <td>1632.907282</td>\n",
       "      <td>2115</td>\n",
       "      <td>0.240095</td>\n",
       "    </tr>\n",
       "    <tr>\n",
       "      <th>Journalism</th>\n",
       "      <td>1.243767e+07</td>\n",
       "      <td>4755</td>\n",
       "      <td>2615.702568</td>\n",
       "      <td>1012</td>\n",
       "      <td>0.212829</td>\n",
       "    </tr>\n",
       "    <tr>\n",
       "      <th>Film &amp; Video</th>\n",
       "      <td>3.915551e+08</td>\n",
       "      <td>63585</td>\n",
       "      <td>6157.978427</td>\n",
       "      <td>23623</td>\n",
       "      <td>0.371518</td>\n",
       "    </tr>\n",
       "  </tbody>\n",
       "</table>\n",
       "</div>"
      ],
      "text/plain": [
       "               pledged_sum  count  average_amount  success_count  success_rate\n",
       "Music         2.003187e+08  51918     3858.367608          24197      0.466062\n",
       "Dance         1.301070e+07   3768     3452.946356           2338      0.620488\n",
       "Crafts        1.438428e+07   8809     1632.907282           2115      0.240095\n",
       "Journalism    1.243767e+07   4755     2615.702568           1012      0.212829\n",
       "Film & Video  3.915551e+08  63585     6157.978427          23623      0.371518"
      ]
     },
     "execution_count": 35,
     "metadata": {},
     "output_type": "execute_result"
    }
   ],
   "source": [
    "cate_df[\"success_rate\"] = cate_df['success_count']/ cate_df['count']\n",
    "cate_df.head()"
   ]
  },
  {
   "cell_type": "markdown",
   "metadata": {
    "_uuid": "6193cb47a40a79320688b8813274fce002b70058"
   },
   "source": [
    "Adding **success_pledged_goal**"
   ]
  },
  {
   "cell_type": "code",
   "execution_count": 36,
   "metadata": {
    "_uuid": "23d1b28185b6d07d741548df13ec9753682cde49"
   },
   "outputs": [
    {
     "data": {
      "text/html": [
       "<div>\n",
       "<style scoped>\n",
       "    .dataframe tbody tr th:only-of-type {\n",
       "        vertical-align: middle;\n",
       "    }\n",
       "\n",
       "    .dataframe tbody tr th {\n",
       "        vertical-align: top;\n",
       "    }\n",
       "\n",
       "    .dataframe thead th {\n",
       "        text-align: right;\n",
       "    }\n",
       "</style>\n",
       "<table border=\"1\" class=\"dataframe\">\n",
       "  <thead>\n",
       "    <tr style=\"text-align: right;\">\n",
       "      <th></th>\n",
       "      <th>pledged_sum</th>\n",
       "      <th>count</th>\n",
       "      <th>average_amount</th>\n",
       "      <th>success_count</th>\n",
       "      <th>success_rate</th>\n",
       "      <th>success_pledged_goal</th>\n",
       "    </tr>\n",
       "  </thead>\n",
       "  <tbody>\n",
       "    <tr>\n",
       "      <th>Music</th>\n",
       "      <td>2.003187e+08</td>\n",
       "      <td>51918</td>\n",
       "      <td>3858.367608</td>\n",
       "      <td>24197</td>\n",
       "      <td>0.466062</td>\n",
       "      <td>5736.980040</td>\n",
       "    </tr>\n",
       "    <tr>\n",
       "      <th>Dance</th>\n",
       "      <td>1.301070e+07</td>\n",
       "      <td>3768</td>\n",
       "      <td>3452.946356</td>\n",
       "      <td>2338</td>\n",
       "      <td>0.620488</td>\n",
       "      <td>4601.094769</td>\n",
       "    </tr>\n",
       "    <tr>\n",
       "      <th>Crafts</th>\n",
       "      <td>1.438428e+07</td>\n",
       "      <td>8809</td>\n",
       "      <td>1632.907282</td>\n",
       "      <td>2115</td>\n",
       "      <td>0.240095</td>\n",
       "      <td>3013.430794</td>\n",
       "    </tr>\n",
       "    <tr>\n",
       "      <th>Journalism</th>\n",
       "      <td>1.243767e+07</td>\n",
       "      <td>4755</td>\n",
       "      <td>2615.702568</td>\n",
       "      <td>1012</td>\n",
       "      <td>0.212829</td>\n",
       "      <td>8148.647846</td>\n",
       "    </tr>\n",
       "    <tr>\n",
       "      <th>Film &amp; Video</th>\n",
       "      <td>3.915551e+08</td>\n",
       "      <td>63585</td>\n",
       "      <td>6157.978427</td>\n",
       "      <td>23623</td>\n",
       "      <td>0.371518</td>\n",
       "      <td>11145.188408</td>\n",
       "    </tr>\n",
       "  </tbody>\n",
       "</table>\n",
       "</div>"
      ],
      "text/plain": [
       "               pledged_sum  count  average_amount  success_count  \\\n",
       "Music         2.003187e+08  51918     3858.367608          24197   \n",
       "Dance         1.301070e+07   3768     3452.946356           2338   \n",
       "Crafts        1.438428e+07   8809     1632.907282           2115   \n",
       "Journalism    1.243767e+07   4755     2615.702568           1012   \n",
       "Film & Video  3.915551e+08  63585     6157.978427          23623   \n",
       "\n",
       "              success_rate  success_pledged_goal  \n",
       "Music             0.466062           5736.980040  \n",
       "Dance             0.620488           4601.094769  \n",
       "Crafts            0.240095           3013.430794  \n",
       "Journalism        0.212829           8148.647846  \n",
       "Film & Video      0.371518          11145.188408  "
      ]
     },
     "execution_count": 36,
     "metadata": {},
     "output_type": "execute_result"
    }
   ],
   "source": [
    "success_goal = {}\n",
    "for category in list(set(ksdf['main_category'])):\n",
    "    success_count = ksdf[(ksdf['main_category'] == category) & \n",
    "         (ksdf['state'] == \"successful\")]['usd_goal_real'].mean()\n",
    "    success_goal[category] = success_count\n",
    "\n",
    "cate_df[\"success_pledged_goal\"] = pd.Series(success_goal)\n",
    "cate_df.head()"
   ]
  },
  {
   "cell_type": "code",
   "execution_count": 37,
   "metadata": {
    "_uuid": "6fa9bafccf1d2c647025de592230b46fcd662ddb"
   },
   "outputs": [
    {
     "data": {
      "text/html": [
       "<div>\n",
       "<style scoped>\n",
       "    .dataframe tbody tr th:only-of-type {\n",
       "        vertical-align: middle;\n",
       "    }\n",
       "\n",
       "    .dataframe tbody tr th {\n",
       "        vertical-align: top;\n",
       "    }\n",
       "\n",
       "    .dataframe thead th {\n",
       "        text-align: right;\n",
       "    }\n",
       "</style>\n",
       "<table border=\"1\" class=\"dataframe\">\n",
       "  <thead>\n",
       "    <tr style=\"text-align: right;\">\n",
       "      <th></th>\n",
       "      <th>pledged_sum</th>\n",
       "      <th>count</th>\n",
       "      <th>average_amount</th>\n",
       "      <th>success_count</th>\n",
       "      <th>success_rate</th>\n",
       "      <th>success_pledged_goal</th>\n",
       "      <th>fail_pledged_goal</th>\n",
       "    </tr>\n",
       "  </thead>\n",
       "  <tbody>\n",
       "    <tr>\n",
       "      <th>Music</th>\n",
       "      <td>2.003187e+08</td>\n",
       "      <td>51918</td>\n",
       "      <td>3858.367608</td>\n",
       "      <td>24197</td>\n",
       "      <td>0.466062</td>\n",
       "      <td>5736.980040</td>\n",
       "      <td>24070.043157</td>\n",
       "    </tr>\n",
       "    <tr>\n",
       "      <th>Dance</th>\n",
       "      <td>1.301070e+07</td>\n",
       "      <td>3768</td>\n",
       "      <td>3452.946356</td>\n",
       "      <td>2338</td>\n",
       "      <td>0.620488</td>\n",
       "      <td>4601.094769</td>\n",
       "      <td>15395.512874</td>\n",
       "    </tr>\n",
       "    <tr>\n",
       "      <th>Crafts</th>\n",
       "      <td>1.438428e+07</td>\n",
       "      <td>8809</td>\n",
       "      <td>1632.907282</td>\n",
       "      <td>2115</td>\n",
       "      <td>0.240095</td>\n",
       "      <td>3013.430794</td>\n",
       "      <td>12528.804173</td>\n",
       "    </tr>\n",
       "    <tr>\n",
       "      <th>Journalism</th>\n",
       "      <td>1.243767e+07</td>\n",
       "      <td>4755</td>\n",
       "      <td>2615.702568</td>\n",
       "      <td>1012</td>\n",
       "      <td>0.212829</td>\n",
       "      <td>8148.647846</td>\n",
       "      <td>90083.452241</td>\n",
       "    </tr>\n",
       "    <tr>\n",
       "      <th>Film &amp; Video</th>\n",
       "      <td>3.915551e+08</td>\n",
       "      <td>63585</td>\n",
       "      <td>6157.978427</td>\n",
       "      <td>23623</td>\n",
       "      <td>0.371518</td>\n",
       "      <td>11145.188408</td>\n",
       "      <td>122726.430097</td>\n",
       "    </tr>\n",
       "  </tbody>\n",
       "</table>\n",
       "</div>"
      ],
      "text/plain": [
       "               pledged_sum  count  average_amount  success_count  \\\n",
       "Music         2.003187e+08  51918     3858.367608          24197   \n",
       "Dance         1.301070e+07   3768     3452.946356           2338   \n",
       "Crafts        1.438428e+07   8809     1632.907282           2115   \n",
       "Journalism    1.243767e+07   4755     2615.702568           1012   \n",
       "Film & Video  3.915551e+08  63585     6157.978427          23623   \n",
       "\n",
       "              success_rate  success_pledged_goal  fail_pledged_goal  \n",
       "Music             0.466062           5736.980040       24070.043157  \n",
       "Dance             0.620488           4601.094769       15395.512874  \n",
       "Crafts            0.240095           3013.430794       12528.804173  \n",
       "Journalism        0.212829           8148.647846       90083.452241  \n",
       "Film & Video      0.371518          11145.188408      122726.430097  "
      ]
     },
     "execution_count": 37,
     "metadata": {},
     "output_type": "execute_result"
    }
   ],
   "source": [
    "fail_goal = {}\n",
    "for category in list(set(ksdf['main_category'])):\n",
    "    fail_count = ksdf[(ksdf['main_category'] == category) & \n",
    "         (ksdf['state'] == \"failed\")]['usd_goal_real'].mean()\n",
    "    fail_goal[category] = fail_count\n",
    "\n",
    "cate_df[\"fail_pledged_goal\"] = pd.Series(fail_goal)\n",
    "cate_df.head()"
   ]
  },
  {
   "cell_type": "code",
   "execution_count": 38,
   "metadata": {
    "_uuid": "6188ba9494e6979a3dba3438e8f6d9f3ebcb24e7"
   },
   "outputs": [
    {
     "name": "stdout",
     "output_type": "stream",
     "text": [
      "52540.92656944213\n",
      "9153.77365291223\n"
     ]
    }
   ],
   "source": [
    "print (cate_df['fail_pledged_goal'].mean())\n",
    "print (cate_df['success_pledged_goal'].mean())"
   ]
  },
  {
   "cell_type": "code",
   "execution_count": 39,
   "metadata": {
    "_uuid": "05876c633f55857f9c79fc0fe206ae63ce0eee99"
   },
   "outputs": [],
   "source": [
    "state_compare = ksdf.drop(ksdf[ksdf['state'] == 'live'].index, axis = 0)\n",
    "state_compare = state_compare.drop(ksdf[ksdf['state'] == 'canceled'].index, axis = 0)\n",
    "state_compare = state_compare.drop(ksdf[ksdf['state'] == 'undefined'].index, axis = 0)\n",
    "state_compare = state_compare.drop(ksdf[ksdf['state'] == 'suspended'].index, axis = 0)"
   ]
  },
  {
   "cell_type": "code",
   "execution_count": 40,
   "metadata": {
    "_uuid": "581c5e9c7b9572a46b7e678eb51ef012fdcf197c"
   },
   "outputs": [
    {
     "data": {
      "image/png": "[encoded data removed]",
      "text/plain": [
       "<Figure size 1440x360 with 1 Axes>"
      ]
     },
     "metadata": {},
     "output_type": "display_data"
    }
   ],
   "source": [
    "color = ['#055968', \"#e3c6e5\"]\n",
    "state_compare = state_compare.sort_values('usd_pledged_real',  ascending = False)\n",
    "plt.subplots(figsize = (20,5))\n",
    "sns.set_style(\"whitegrid\")\n",
    "sns.barplot(x=\"main_category\", y=\"usd_goal_real\", hue=\"state\", \n",
    "            data= state_compare, palette = color, ci = None)\n",
    "sns.despine(right = True, top = True)"
   ]
  },
  {
   "cell_type": "code",
   "execution_count": 41,
   "metadata": {
    "_uuid": "7215884299e5d1de9a17012197db278085aaa979"
   },
   "outputs": [
    {
     "data": {
      "image/png": "[encoded data removed]",
      "text/plain": [
       "<Figure size 1440x360 with 1 Axes>"
      ]
     },
     "metadata": {},
     "output_type": "display_data"
    }
   ],
   "source": [
    "# pledged_sum plot\n",
    "cate_df = cate_df.sort_values('success_pledged_goal',  ascending = False)\n",
    "plt.subplots(figsize = (20,5))\n",
    "sns.set_style(\"whitegrid\")\n",
    "sns.barplot(cate_df['success_pledged_goal'].index, y= cate_df['success_pledged_goal'] ,\n",
    "            palette=\"Set1\",saturation = 0.5)\n",
    "sns.despine(right = True, top = True)"
   ]
  },
  {
   "cell_type": "code",
   "execution_count": 42,
   "metadata": {
    "_uuid": "a8e75bfe1319a9b6abec53dfaddec6388edb8edd"
   },
   "outputs": [
    {
     "data": {
      "image/png": "[encoded data removed]",
      "text/plain": [
       "<Figure size 1440x360 with 1 Axes>"
      ]
     },
     "metadata": {},
     "output_type": "display_data"
    }
   ],
   "source": [
    "# pledged_sum plot\n",
    "cate_df = cate_df.sort_values('pledged_sum',  ascending = False)\n",
    "plt.subplots(figsize = (20,5))\n",
    "sns.set_style(\"whitegrid\")\n",
    "sns.barplot(cate_df['pledged_sum'].index, y= cate_df['pledged_sum'] ,\n",
    "            palette=\"Set1\",saturation = 0.5)\n",
    "sns.despine(right = True, top = True)"
   ]
  },
  {
   "cell_type": "code",
   "execution_count": 43,
   "metadata": {
    "_uuid": "999a4e2e52f5befb3aab77bd2f114444450a4cb8"
   },
   "outputs": [
    {
     "data": {
      "image/png": "[encoded data removed]",
      "text/plain": [
       "<Figure size 1440x360 with 1 Axes>"
      ]
     },
     "metadata": {},
     "output_type": "display_data"
    }
   ],
   "source": [
    "# avarage amount plot\n",
    "cate_df = cate_df.sort_values('average_amount',  ascending = False)\n",
    "plt.subplots(figsize = (20,5))\n",
    "sns.set_style(\"whitegrid\")\n",
    "sns.barplot(cate_df['average_amount'].index, y= cate_df['average_amount'] ,\n",
    "            palette=\"Set1\",saturation = 0.5)\n",
    "sns.despine(right = True, top = True)"
   ]
  },
  {
   "cell_type": "code",
   "execution_count": 44,
   "metadata": {
    "_uuid": "789fe98114fefe6c194ce53ffb1485f0579caa48"
   },
   "outputs": [
    {
     "data": {
      "image/png": "[encoded data removed]",
      "text/plain": [
       "<Figure size 1440x360 with 1 Axes>"
      ]
     },
     "metadata": {},
     "output_type": "display_data"
    }
   ],
   "source": [
    "# count plot\n",
    "cate_df = cate_df.sort_values('count',  ascending = False)\n",
    "plt.subplots(figsize = (20,5))\n",
    "sns.set_style(\"whitegrid\")\n",
    "sns.barplot(cate_df['count'].index, y= cate_df['count'] ,\n",
    "            palette=\"Set1\",saturation = 0.5)\n",
    "sns.despine(right = True, top = True)"
   ]
  },
  {
   "cell_type": "code",
   "execution_count": 45,
   "metadata": {
    "_uuid": "4d2f803dbd9264f36bc6cdcdf24654ba129fea14"
   },
   "outputs": [
    {
     "data": {
      "image/png": "[encoded data removed]",
      "text/plain": [
       "<Figure size 1440x360 with 1 Axes>"
      ]
     },
     "metadata": {},
     "output_type": "display_data"
    }
   ],
   "source": [
    "# success rate plot\n",
    "cate_df = cate_df.sort_values('success_rate',  ascending = False)\n",
    "plt.subplots(figsize = (20,5))\n",
    "sns.set_style(\"whitegrid\")\n",
    "sns.barplot(cate_df['success_rate'].index, y= cate_df['success_rate'] ,\n",
    "            palette=\"Set1\",saturation = 0.5)\n",
    "sns.despine(right = True, top = True)"
   ]
  },
  {
   "cell_type": "markdown",
   "metadata": {
    "_uuid": "670e257cbb84aa9d5235d452fa9a77a819eeaf16"
   },
   "source": [
    "## 4. Backers\n",
    "* 4.1 Discover categories that attract most backers\n",
    "* 4.2 The distribution of backers\n",
    "* 4.3 Relationship between backers & pledged amounts"
   ]
  },
  {
   "cell_type": "code",
   "execution_count": 46,
   "metadata": {
    "_uuid": "1c5f56b02256fd687654425e3166bbdee9169405"
   },
   "outputs": [],
   "source": [
    "back_cate = {}\n",
    "\n",
    "for category in set(ksdf['main_category']):\n",
    "    backers = ksdf[ksdf['main_category'] == category]['backers'].sum()\n",
    "    back_cate[category] = backers\n",
    "\n",
    "backers = pd.Series(back_cate)\n",
    "cate_df['backers'] = backers"
   ]
  },
  {
   "cell_type": "code",
   "execution_count": 47,
   "metadata": {
    "_uuid": "94898489b21cb3bf1cb9d2657c4b4ebcbeb6acfb"
   },
   "outputs": [
    {
     "data": {
      "image/png": "[encoded data removed]",
      "text/plain": [
       "<Figure size 1440x360 with 1 Axes>"
      ]
     },
     "metadata": {},
     "output_type": "display_data"
    }
   ],
   "source": [
    "cate_df = cate_df.sort_values('backers',  ascending = False)\n",
    "plt.subplots(figsize = (20,5))\n",
    "sns.set_style(\"whitegrid\")\n",
    "sns.barplot(cate_df['backers'].index, y= cate_df['backers'] ,\n",
    "            palette=\"Set1\",saturation = 0.5)\n",
    "sns.despine(right = True, top = True)"
   ]
  },
  {
   "cell_type": "code",
   "execution_count": 48,
   "metadata": {
    "_uuid": "2f8e8fc28fa294304dc1c5d4a4708b7c81e52878"
   },
   "outputs": [
    {
     "data": {
      "text/plain": [
       "<matplotlib.axes._subplots.AxesSubplot at 0x1a31a20c88>"
      ]
     },
     "execution_count": 48,
     "metadata": {},
     "output_type": "execute_result"
    },
    {
     "data": {
      "image/png": "[encoded data removed]",
      "text/plain": [
       "<Figure size 432x288 with 1 Axes>"
      ]
     },
     "metadata": {},
     "output_type": "display_data"
    }
   ],
   "source": [
    "ksdf['backers'].quantile(list(np.arange(0,1,0.01))).plot(grid = 0, color = '#055968')"
   ]
  },
  {
   "cell_type": "code",
   "execution_count": 49,
   "metadata": {
    "_uuid": "f9d98e8010530a088f87f60fb869724f4603945f"
   },
   "outputs": [
    {
     "data": {
      "image/png": "[encoded data removed]",
      "text/plain": [
       "<Figure size 432x288 with 1 Axes>"
      ]
     },
     "metadata": {},
     "output_type": "display_data"
    }
   ],
   "source": [
    "sns.set_style(\"whitegrid\")\n",
    "sns.kdeplot(ksdf['backers'])\n",
    "sns.despine(right = True, top = True)"
   ]
  },
  {
   "cell_type": "markdown",
   "metadata": {
    "_uuid": "600794b481c096b5a6f0f7b2c2cf4613b73ad036",
    "collapsed": true
   },
   "source": [
    "### 5. Modeling\n",
    "* 5.1 Backers & pledged amount - `Linear Regression`\n",
    "    - Use **backers** to predict **usd_pledged_real**\n",
    "    - Retrieve projects that are not zero-pledged\n",
    "    - Model\n",
    "        - Input (X): **backers** (logarithm)\n",
    "        - Output (Y): **usd_pledged_real** (logarithm)\n",
    "        - Loss estimation: mean squared error\n",
    "* 5.2 Project state prediction - `Random Forest`\n",
    "- Data processing\n",
    "    - Encode **state** column to binary:\n",
    "        - successful -> 1\n",
    "        - failed -> 0\n",
    "        - else -> delete\n",
    "    - Concatenate new data set: `ksdf_rf`\n",
    "        - **main_category**\n",
    "        - **time** \n",
    "        - **state**\n",
    "    - Data Split:\n",
    "        - train 70%\n",
    "        - test 30%\n",
    "    - Define X and Y\n",
    "        - X:\n",
    "            - category (one-hot)\n",
    "            -  main_category (one-hot)\n",
    "            - time\n",
    "        - Y:\n",
    "            - success/ failed (1/0)"
   ]
  },
  {
   "cell_type": "code",
   "execution_count": 50,
   "metadata": {
    "_uuid": "6d2fb70b77814a971e5d176f6e250b4db4b76d05"
   },
   "outputs": [
    {
     "name": "stdout",
     "output_type": "stream",
     "text": [
      "(326134, 18)\n"
     ]
    }
   ],
   "source": [
    "# Select not zero-pledged projects\n",
    "non_zero = ksdf[ksdf['usd_pledged_real'] != 0]\n",
    "print (non_zero.shape)"
   ]
  },
  {
   "cell_type": "code",
   "execution_count": 51,
   "metadata": {
    "_uuid": "c66fcd9c9ae145c1cacc61babd2a29bdef93c08b"
   },
   "outputs": [
    {
     "name": "stdout",
     "output_type": "stream",
     "text": [
      "(326134,)\n",
      "(326134,)\n"
     ]
    }
   ],
   "source": [
    "# Define X and Y\n",
    "X = ksdf[ksdf['usd_pledged_real'] != 0]['backers'].values\n",
    "Y = ksdf[ksdf['usd_pledged_real'] != 0]['usd_pledged_real'].values\n",
    "\n",
    "print (X.shape)\n",
    "print (Y.shape)"
   ]
  },
  {
   "cell_type": "code",
   "execution_count": 52,
   "metadata": {
    "_uuid": "c7bae2576ad934bb3a4c6f2b0a5cc3a00aedc165"
   },
   "outputs": [],
   "source": [
    "X = X.reshape(326134,1)\n",
    "Y = Y.reshape(326134,1)"
   ]
  },
  {
   "cell_type": "code",
   "execution_count": 53,
   "metadata": {
    "_uuid": "e54d4b3f1f2cb97c611922aa7ca297289e780d1c"
   },
   "outputs": [
    {
     "data": {
      "image/png": "[encoded data removed]",
      "text/plain": [
       "<Figure size 432x288 with 1 Axes>"
      ]
     },
     "metadata": {},
     "output_type": "display_data"
    }
   ],
   "source": [
    "# Model fitting and visualization\n",
    "regr = linear_model.LinearRegression()\n",
    "regr.fit(np.log(X+1), np.log(Y+1))\n",
    "\n",
    "plt.scatter(np.log(X+1), np.log(Y+1), color = '#055968')\n",
    "plt.plot(np.log(X+1), regr.predict(np.log(X+1)), color='red', linewidth=3)\n",
    "plt.show()"
   ]
  },
  {
   "cell_type": "code",
   "execution_count": 54,
   "metadata": {
    "_uuid": "f1594d41ca65d8df3c479e6eae4d1ed4e018d826"
   },
   "outputs": [
    {
     "name": "stdout",
     "output_type": "stream",
     "text": [
      "error =  1.3270311693968837\n",
      "coefficient =  [[1.34211282]]\n",
      "intercept =  [2.59033815]\n"
     ]
    }
   ],
   "source": [
    "# Results: error and parameters\n",
    "\n",
    "Y_pred = regr.predict(np.log(X+1))\n",
    "Y_true = np.log(Y+1)\n",
    "\n",
    "print (\"error = \", sklearn.metrics.mean_squared_error(Y_true, Y_pred))\n",
    "print (\"coefficient = \", regr.coef_)\n",
    "print (\"intercept = \", regr.intercept_)"
   ]
  },
  {
   "cell_type": "markdown",
   "metadata": {
    "_uuid": "6b4bc3c936d1b0a675bc29a972ead187e16d8c95"
   },
   "source": [
    "Encode **state** column to binary\n",
    "* successful -> 1\n",
    "* failed -> 0\n",
    "* else -> delete"
   ]
  },
  {
   "cell_type": "code",
   "execution_count": 55,
   "metadata": {
    "_uuid": "09e40d1288e1dd96fcd6dc55fb4867dbd28bcdd0"
   },
   "outputs": [
    {
     "name": "stdout",
     "output_type": "stream",
     "text": [
      "failed        197719\n",
      "successful    133956\n",
      "canceled       38779\n",
      "undefined       3562\n",
      "live            2799\n",
      "suspended       1846\n",
      "Name: state, dtype: int64\n",
      "\n",
      "ksdf.shape =  (378661, 18)\n"
     ]
    }
   ],
   "source": [
    "print (ksdf['state'].value_counts())\n",
    "print ('')\n",
    "print (\"ksdf.shape = \", ksdf.shape)"
   ]
  },
  {
   "cell_type": "code",
   "execution_count": 56,
   "metadata": {
    "_uuid": "863c3426f24582b7eb9e9566974601d7e1d17b12"
   },
   "outputs": [],
   "source": [
    "def state_change(cell_value):\n",
    "    if cell_value == 'successful':\n",
    "        return 1\n",
    "    \n",
    "    elif cell_value == 'failed':\n",
    "        return 0\n",
    "    \n",
    "    else:\n",
    "        return 'del'"
   ]
  },
  {
   "cell_type": "code",
   "execution_count": 57,
   "metadata": {
    "_uuid": "4d9e9eab9d3f691a2441d819f3245c7a687af338"
   },
   "outputs": [
    {
     "name": "stdout",
     "output_type": "stream",
     "text": [
      "(133956, 18)\n",
      "(197719, 18)\n",
      "(46986, 18)\n",
      "331675\n"
     ]
    }
   ],
   "source": [
    "ksdf['state'] = ksdf['state'].apply(state_change)\n",
    "print (ksdf[ksdf['state'] == 1].shape)\n",
    "print (ksdf[ksdf['state'] == 0].shape)\n",
    "print (ksdf[ksdf['state'] == 'del'].shape)\n",
    "print (ksdf[ksdf['state'] == 1].shape[0] + ksdf[ksdf['state'] == 0].shape[0])"
   ]
  },
  {
   "cell_type": "markdown",
   "metadata": {
    "_uuid": "ef8240c0b43174a2a62fab9a60055d42ebd1ead8"
   },
   "source": [
    "Concatenate new DataFrame\n",
    "* **main_category**\n",
    "* **time** \n",
    "* **state**"
   ]
  },
  {
   "cell_type": "code",
   "execution_count": 58,
   "metadata": {
    "_uuid": "804d9c0b5ec2b9875346624d9e4461c3e85947e8"
   },
   "outputs": [
    {
     "name": "stdout",
     "output_type": "stream",
     "text": [
      "(331675, 18)\n"
     ]
    }
   ],
   "source": [
    "ksdf_rf = ksdf.drop(ksdf[ksdf['state'] == 'del'].index)\n",
    "print (ksdf_rf.shape)"
   ]
  },
  {
   "cell_type": "code",
   "execution_count": 59,
   "metadata": {
    "_uuid": "5115bc365353201426e1ff087730db7c95496ac4"
   },
   "outputs": [
    {
     "name": "stdout",
     "output_type": "stream",
     "text": [
      "(331675, 3)\n"
     ]
    }
   ],
   "source": [
    "ksdf_rf = pd.concat([\n",
    "                  ksdf_rf['main_category'],\n",
    "                  ksdf_rf['time'],\n",
    "                  ksdf_rf['state']], axis = 1\n",
    "                 )\n",
    "\n",
    "print (ksdf_rf.shape)"
   ]
  },
  {
   "cell_type": "markdown",
   "metadata": {
    "_uuid": "1838346c43eb8020b145bd4c2b117eb0b097072a"
   },
   "source": [
    "Data Split:\n",
    "* Train: 70%\n",
    "* Test: 30%"
   ]
  },
  {
   "cell_type": "code",
   "execution_count": 60,
   "metadata": {
    "_uuid": "74cd9b9d4d30ab3631ee8e1daf5f87fe11a2ca66"
   },
   "outputs": [
    {
     "name": "stdout",
     "output_type": "stream",
     "text": [
      "Train shape =  (232172, 3) , 69.99984925001884 %\n",
      "Test shape =  (99503, 3) , 30.00015074998116 %\n"
     ]
    }
   ],
   "source": [
    "train, test = sklearn.model_selection.train_test_split(ksdf_rf, test_size = 0.3, random_state = 42)\n",
    "\n",
    "print (\"Train shape = \", train.shape, \",\", len(train)/ len(ksdf_rf) * 100, \"%\")\n",
    "print (\"Test shape = \", test.shape, \",\", len(test)/ len(ksdf_rf) * 100, \"%\")"
   ]
  },
  {
   "cell_type": "markdown",
   "metadata": {
    "_uuid": "d21479614462afb9d895e7cc468b30e2cfa43a6b"
   },
   "source": [
    "Define X and Y"
   ]
  },
  {
   "cell_type": "code",
   "execution_count": 61,
   "metadata": {
    "_uuid": "1c2ecb10e0113f1e84ed598e4f9c0553c6e50aa6"
   },
   "outputs": [],
   "source": [
    "X_train = pd.concat(\n",
    "    [\n",
    "     pd.get_dummies(train['main_category'], prefix = 'main_category'),\n",
    "     train[\"time\"]\n",
    "    ], axis=1)\n",
    "\n",
    "Y_train = train['state']\n",
    "\n",
    "X_test = pd.concat(\n",
    "    [\n",
    "     pd.get_dummies(test['main_category'], prefix = 'main_category'),\n",
    "     test[\"time\"]\n",
    "    ], axis=1)\n",
    "\n",
    "Y_test = test['state']"
   ]
  },
  {
   "cell_type": "code",
   "execution_count": 62,
   "metadata": {
    "_uuid": "c40ed52d2888952ebec103c5f8d29bd27bf64a62"
   },
   "outputs": [],
   "source": [
    "X_train = X_train.astype(int)\n",
    "Y_train = Y_train.astype(int)\n",
    "X_test = X_test.astype(int)\n",
    "Y_test = Y_test.astype(int)"
   ]
  },
  {
   "cell_type": "markdown",
   "metadata": {
    "_uuid": "341c5b991adf5c06548979e103255133f9503a66"
   },
   "source": [
    "Random Forest"
   ]
  },
  {
   "cell_type": "code",
   "execution_count": 63,
   "metadata": {
    "_uuid": "47c8ac102668bb2bf886305c0684901553a94052"
   },
   "outputs": [],
   "source": [
    "for_record = {\n",
    "    'baseline':{},\n",
    "    'best_random1':{},\n",
    "    'best_random2':{},\n",
    "    'best_random3':{},\n",
    "    'grid1':{},\n",
    "    'grid2':{}\n",
    "}"
   ]
  },
  {
   "cell_type": "code",
   "execution_count": 64,
   "metadata": {
    "_uuid": "607e248b6fd7298e9cb3860670419e584b3bd5d1"
   },
   "outputs": [
    {
     "name": "stderr",
     "output_type": "stream",
     "text": [
      "/Users/Terry/anaconda3/lib/python3.7/site-packages/sklearn/ensemble/forest.py:245: FutureWarning: The default value of n_estimators will change from 10 in version 0.20 to 100 in 0.22.\n",
      "  \"10 in version 0.20 to 100 in 0.22.\", FutureWarning)\n"
     ]
    }
   ],
   "source": [
    "start = time.time()\n",
    "rf = RandomForestClassifier(random_state = 42)\n",
    "rf.fit(X_train, Y_train)\n",
    "end = time.time()\n",
    "sec = end - start\n",
    "Y_pred = rf.predict(X_train)"
   ]
  },
  {
   "cell_type": "code",
   "execution_count": 65,
   "metadata": {
    "_uuid": "0a88ae855c0b8ed5f5bd06cbd910e21db0007ef0"
   },
   "outputs": [],
   "source": [
    "for_record['baseline']['params'] = rf.get_params()\n",
    "for_record['baseline']['time'] = sec\n",
    "for_record['baseline'][\"train_score\"] = rf.score(X_train, Y_train)\n",
    "for_record['baseline']['f1'] = f1_score(Y_train, Y_pred, average = 'weighted')\n",
    "for_record['baseline']['test_score'] = rf.score(X_test, Y_test)"
   ]
  },
  {
   "cell_type": "code",
   "execution_count": 66,
   "metadata": {
    "_uuid": "821c67c17281644801969ac2898552dafbc01117"
   },
   "outputs": [
    {
     "name": "stdout",
     "output_type": "stream",
     "text": [
      "{'bootstrap': True, 'class_weight': None, 'criterion': 'gini', 'max_depth': None, 'max_features': 'auto', 'max_leaf_nodes': None, 'min_impurity_decrease': 0.0, 'min_impurity_split': None, 'min_samples_leaf': 1, 'min_samples_split': 2, 'min_weight_fraction_leaf': 0.0, 'n_estimators': 10, 'n_jobs': None, 'oob_score': False, 'random_state': 42, 'verbose': 0, 'warm_start': False}\n",
      "0.6037000108976848\n",
      "0.6272574696240314\n"
     ]
    }
   ],
   "source": [
    "print (for_record['baseline']['params'])\n",
    "print (for_record['baseline']['f1'])\n",
    "print (for_record['baseline']['test_score'])"
   ]
  },
  {
   "cell_type": "code",
   "execution_count": null,
   "metadata": {},
   "outputs": [],
   "source": []
  }
 ],
 "metadata": {
  "kernelspec": {
   "display_name": "Python 3",
   "language": "python",
   "name": "python3"
  },
  "language_info": {
   "codemirror_mode": {
    "name": "ipython",
    "version": 3
   },
   "file_extension": ".py",
   "mimetype": "text/x-python",
   "name": "python",
   "nbconvert_exporter": "python",
   "pygments_lexer": "ipython3",
   "version": "3.7.3"
  }
 },
 "nbformat": 4,
 "nbformat_minor": 1
}
